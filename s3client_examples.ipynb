Last login: Mon Feb  5 09:56:11 on ttys005
syaseen@syaseen-mac opendatahub.io % ls     
CNAME			LICENSE			asciidoctor.json	gatsby-node.ts		node_modules		package.json		src			tsconfig.json
CONTRIBUTING.md		README.md		gatsby-config.ts	index.d.ts		package-lock.json	public			test.txt
syaseen@syaseen-mac opendatahub.io % cd ..
syaseen@syaseen-mac ~ % cd openshift-ai-documentation 
syaseen@syaseen-mac openshift-ai-documentation % ls
README.md					installing-rhods				release-notes					self-managed-installing-rhods			self-managed-upgrading-rhoai
_artifacts					integrating-data-from-amazon-s3			self-managed-developing-a-model			self-managed-integrating-data-from-amazon-s3	self-managed-working-on-data-science-projects
assemblies					introduction-to-rhoai				self-managed-disconnected-installing-rhoai	self-managed-introduction-to-rhoai		serving-models
developing-a-model				introduction-to-rhods				self-managed-disconnected-installing-rhods	self-managed-managing-resources			snippets
fraud-detection-tutorial			managing-resources				self-managed-disconnected-upgrading-rhoai	self-managed-managing-users			upgrading-rhoai
getting-started-with-rhoai			managing-users					self-managed-fraud-detection-tutorial		self-managed-monitoring-models			upstream
images						modules						self-managed-getting-started-with-rhoai		self-managed-release-notes			working-on-data-science-projects
installing-rhoai				monitoring-models				self-managed-installing-rhoai			self-managed-serving-models
syaseen@syaseen-mac openshift-ai-documentation % vi _artifacts/document-attributes-global.adoc 
syaseen@syaseen-mac openshift-ai-documentation % cd release-notes 
syaseen@syaseen-mac release-notes % ls
_artifacts		assemblies		build			images			master-docinfo.xml	master.adoc		modules			snippets
syaseen@syaseen-mac release-notes % ls
_artifacts		images			modules
assemblies		master-docinfo.xml	snippets
build			master.adoc
syaseen@syaseen-mac release-notes % vi master.adoc 
syaseen@syaseen-mac release-notes % git checkout main
Switched to branch 'main'
Your branch is up to date with 'origin/main'.
syaseen@syaseen-mac release-notes % git fetch --all
Fetching origin
ssh: Could not resolve hostname gitlab.cee.redhat.com: nodename nor servname provided, or not known
fatal: Could not read from remote repository.

Please make sure you have the correct access rights
and the repository exists.
error: could not fetch origin
Fetching upstream
ssh: Could not resolve hostname gitlab.cee.redhat.com: nodename nor servname provided, or not known
fatal: Could not read from remote repository.

Please make sure you have the correct access rights
and the repository exists.
error: could not fetch upstream
syaseen@syaseen-mac release-notes % vi modules/overview-of-o
syaseen@syaseen-mac release-notes % git fetch --all  
Fetching origin
Enter passphrase for key '/Users/syaseen/.ssh/id_rsa': 
Fetching upstream
Enter passphrase for key '/Users/syaseen/.ssh/id_rsa': 
remote: Enumerating objects: 23, done.
remote: Counting objects: 100% (19/19), done.
remote: Compressing objects: 100% (11/11), done.
remote: Total 11 (delta 7), reused 1 (delta 0), pack-reused 0
Unpacking objects: 100% (11/11), 1.17 KiB | 92.00 KiB/s, done.
From gitlab.cee.redhat.com:documentation-red-hat-openshift-data-science-documentation/openshift-ai-documentation
   fcb0a9092..c681f0f34  main           -> upstream/main
   9615e9044..fdd80a9b0  stage-2-latest -> upstream/stage-2-latest
   07a437efa..95f46843b  stage-2.6      -> upstream/stage-2.6
syaseen@syaseen-mac release-notes % git rebase upstream/main
Successfully rebased and updated refs/heads/main.
syaseen@syaseen-mac release-notes % git push origin main
Enter passphrase for key '/Users/syaseen/.ssh/id_rsa': 
Enumerating objects: 117, done.
Counting objects: 100% (117/117), done.
Delta compression using up to 10 threads
Compressing objects: 100% (80/80), done.
Writing objects: 100% (80/80), 20.41 KiB | 6.80 MiB/s, done.
Total 80 (delta 63), reused 0 (delta 0), pack-reused 0
remote: 
remote: =======================================================================
remote: 
remote:   Gitlab.cee will be upgraded from v16.4.5 to 16.5.8 on Sat, February
remote:      17th; between 8:30 am and 5:30 pm Eastern. During this time we
remote:                expect a brief outage of GitLab services.
remote: 
remote: =======================================================================
remote: 
To gitlab.cee.redhat.com:syaseen/openshift-ai-documentation.git
   55cc44f45..c681f0f34  main -> main
syaseen@syaseen-mac release-notes % git checkout -b RHOAIENG-1440
Switched to a new branch 'RHOAIENG-1440'
syaseen@syaseen-mac release-notes % vi modules/overview-of-openshift-ai.adoc 
syaseen@syaseen-mac release-notes % cd ..
syaseen@syaseen-mac openshift-ai-documentation % cd modules 
syaseen@syaseen-mac modules % vi overview-of-openshift-ai.adoc 
syaseen@syaseen-mac modules % git diff overview-of-openshift-ai.adoc 
diff --git a/modules/overview-of-openshift-ai.adoc b/modules/overview-of-openshift-ai.adoc
index ffececfc3..7cbdeed48 100644
--- a/modules/overview-of-openshift-ai.adoc
+++ b/modules/overview-of-openshift-ai.adoc
@@ -4,10 +4,7 @@
 = Overview of {productname-short}
 
 [role='_abstract']
-Using {productname-long}, users can integrate data, artificial intelligence and machine learning software to execute end-to-end machine learning workflows. {productname-short} is supported in two configurations:
-
-. Installed as an Add-on to a {org-name} managed environment such as {org-name} OpenShift Dedicated and {org-name} OpenShift Service on Amazon Web Services (ROSA).
-. Installed as a self-managed Operator on a self-managed environment, such as {org-name} OpenShift Container Platform.
+Using {productname-long}, users can integrate data, artificial intelligence and machine learning software to execute end-to-end machine learning workflows.
 
 For data scientists, {productname-short} includes Jupyter and a collection of default notebook images optimized with the tools and libraries required for model development, and the TensorFlow and PyTorch frameworks. Deploy and host your models, integrate models into external applications, and export models to host them in any hybrid cloud environment. You can also accelerate your data science experiments through the use of graphics processing units (GPUs) and Habana Gaudi devices.
 
syaseen@syaseen-mac modules % git branch
  RHOAIENG-1286
  RHOAIENG-1294
* RHOAIENG-1440
  RHOAIENG-1450
  RHOAIENG-1466
  RHOAIENG-1540
  RHOAIENG-1914
  RHOAIENG-1916
  RHOAIENG-1917
  RHOAIENG-2134
  RHOAIENG-2670
  RHOAIENG-2828
  RHOAIENG-649
  RHOAIENG-666
  RHOAIENG-973
  RHODS-12921
  RHODS-13009
  RHODS-13014
  RHODS-13068
  RHODS-13077
  RHODS-13082
  main
  openshift-ai-documentation-RHODS-12921
syaseen@syaseen-mac modules % git status
On branch RHOAIENG-1440
Changes not staged for commit:
  (use "git add <file>..." to update what will be committed)
  (use "git restore <file>..." to discard changes in working directory)
	modified:   overview-of-openshift-ai.adoc

no changes added to commit (use "git add" and/or "git commit -a")
syaseen@syaseen-mac modules % git add overview-of-openshift-ai.adoc 
syaseen@syaseen-mac modules % git status
On branch RHOAIENG-1440
Changes to be committed:
  (use "git restore --staged <file>..." to unstage)
	modified:   overview-of-openshift-ai.adoc

syaseen@syaseen-mac modules % git commit -m "removing redundant content"
[RHOAIENG-1440 4b5c379f3] removing redundant content
 1 file changed, 1 insertion(+), 4 deletions(-)
syaseen@syaseen-mac modules % git fetch --all
Fetching origin
Enter passphrase for key '/Users/syaseen/.ssh/id_rsa': 
Fetching upstream
Enter passphrase for key '/Users/syaseen/.ssh/id_rsa': 
Enter passphrase for key '/Users/syaseen/.ssh/id_rsa': 
syaseen@syaseen-mac modules % git rebase upstream/main
Current branch RHOAIENG-1440 is up to date.
syaseen@syaseen-mac modules % git push origin HEAD
Enter passphrase for key '/Users/syaseen/.ssh/id_rsa': 

syaseen@syaseen-mac modules % pwd                 
/Users/syaseen/openshift-ai-documentation/modules
syaseen@syaseen-mac modules % cd up
syaseen@syaseen-mac modules % cd up
syaseen@syaseen-mac modules % cd ..
syaseen@syaseen-mac openshift-ai-documentation % ls
README.md					installing-rhods				release-notes					self-managed-installing-rhods			self-managed-upgrading-rhoai
_artifacts					integrating-data-from-amazon-s3			self-managed-developing-a-model			self-managed-integrating-data-from-amazon-s3	self-managed-working-on-data-science-projects
assemblies					introduction-to-rhoai				self-managed-disconnected-installing-rhoai	self-managed-introduction-to-rhoai		serving-models
developing-a-model				introduction-to-rhods				self-managed-disconnected-installing-rhods	self-managed-managing-resources			snippets
fraud-detection-tutorial			managing-resources				self-managed-disconnected-upgrading-rhoai	self-managed-managing-users			upgrading-rhoai
getting-started-with-rhoai			managing-users					self-managed-fraud-detection-tutorial		self-managed-monitoring-models			upstream
images						modules						self-managed-getting-started-with-rhoai		self-managed-release-notes			working-on-data-science-projects
installing-rhoai				monitoring-models				self-managed-installing-rhoai			self-managed-serving-models
syaseen@syaseen-mac openshift-ai-documentation % git branch
  RHOAIENG-1286
  RHOAIENG-1294
* RHOAIENG-1440
  RHOAIENG-1450
  RHOAIENG-1466
  RHOAIENG-1540
  RHOAIENG-1914
  RHOAIENG-1916
  RHOAIENG-1917
  RHOAIENG-2134
  RHOAIENG-2670
  RHOAIENG-2828
  RHOAIENG-649
  RHOAIENG-666
  RHOAIENG-973
  RHODS-12921
  RHODS-13009
  RHODS-13014
  RHODS-13068
  RHODS-13077
  RHODS-13082
  main
  openshift-ai-documentation-RHODS-12921
syaseen@syaseen-mac openshift-ai-documentation % git checkout main
Switched to branch 'main'
Your branch is up to date with 'origin/main'.
syaseen@syaseen-mac openshift-ai-documentation % git fetch --all
Fetching origin
Enter passphrase for key '/Users/syaseen/.ssh/id_rsa': 
Fetching upstream
Enter passphrase for key '/Users/syaseen/.ssh/id_rsa': 
remote: Enumerating objects: 43, done.
remote: Counting objects: 100% (43/43), done.
remote: Compressing objects: 100% (34/34), done.
remote: Total 43 (delta 21), reused 12 (delta 9), pack-reused 0
Unpacking objects: 100% (43/43), 48.18 KiB | 1.38 MiB/s, done.
From gitlab.cee.redhat.com:documentation-red-hat-openshift-data-science-documentation/openshift-ai-documentation
   897fe7ce9..acde25c25  CLX3-Red_Hat_OpenShift_AI_Self-Managed-2-latest-Release_notes             -> upstream/CLX3-Red_Hat_OpenShift_AI_Self-Managed-2-latest-Release_notes
   e8ca66f38..c47e0f798  CLX3-Red_Hat_OpenShift_AI_Self-Managed-2.5-Release_notes                  -> upstream/CLX3-Red_Hat_OpenShift_AI_Self-Managed-2.5-Release_notes
   0fb3afec2..ff82cd6c4  CLX3-Red_Hat_OpenShift_AI_Self-Managed-2.6-Monitoring_data_science_models -> upstream/CLX3-Red_Hat_OpenShift_AI_Self-Managed-2.6-Monitoring_data_science_models
   3783ccc1c..9192b86b6  CLX3-Red_Hat_OpenShift_AI_Self-Managed-2.6-Release_notes                  -> upstream/CLX3-Red_Hat_OpenShift_AI_Self-Managed-2.6-Release_notes
   c681f0f34..ba33f00cf  main                                                                      -> upstream/main
syaseen@syaseen-mac openshift-ai-documentation % git rebase upstream/main
Successfully rebased and updated refs/heads/main.
syaseen@syaseen-mac openshift-ai-documentation % git push origin main
Enter passphrase for key '/Users/syaseen/.ssh/id_rsa': 
Enter passphrase for key '/Users/syaseen/.ssh/id_rsa': 
Enter passphrase for key '/Users/syaseen/.ssh/id_rsa': 
Enumerating objects: 26, done.
Counting objects: 100% (26/26), done.
Delta compression using up to 10 threads
Compressing objects: 100% (16/16), done.
Writing objects: 100% (16/16), 2.03 KiB | 2.03 MiB/s, done.
Total 16 (delta 13), reused 0 (delta 0), pack-reused 0
To gitlab.cee.redhat.com:syaseen/openshift-ai-documentation.git
   c681f0f34..ba33f00cf  main -> main
syaseen@syaseen-mac openshift-ai-documentation % git checkout -b RHOAIENG-1448
Switched to a new branch 'RHOAIENG-1448'
syaseen@syaseen-mac openshift-ai-documentation % git status
On branch RHOAIENG-1448
nothing to commit, working tree clean
syaseen@syaseen-mac openshift-ai-documentation % cd modules 
syaseen@syaseen-mac modules % vi installing-openshift-data-science-components-using-web-console.adoc 
syaseen@syaseen-mac modules % git diff installing-openshift-data-science-components-using-web-console.adoc 
diff --git a/modules/installing-openshift-data-science-components-using-web-console.adoc b/modules/installing-openshift-data-science-components-using-web-console.adoc
index 5173f5c49..13ded38d9 100644
--- a/modules/installing-openshift-data-science-components-using-web-console.adoc
+++ b/modules/installing-openshift-data-science-components-using-web-console.adoc
@@ -18,7 +18,9 @@ endif::[]
 ifdef::cloud-service[]
 [IMPORTANT]
 ====
-The following procedure describes how to create and configure a `DataScienceCluster` object to install {productname-long} components as part of a _new_ installation. However, if you upgraded from version 1 of {productname-short} (previously OpenShift Data Science), the upgrade process automatically created a default `DataScienceCluster` object. If you upgraded from a previous minor version, the upgrade process used the settings from the previous version's `DataScienceCluster` object. To inspect the `DataScienceCluster` object and change the installation status of {productname-long} components, see link:{rhoaidocshome}{default-format-url}/upgrading_{url-productname-short}/updating-installation-status-of-openshift-ai-components-using-web-console_upgrade[Updating the installation status of {productname-long} components by using the web console].
+When you install {productname-long) as an Add-on to your OpenShift cluster, the install process automatically creates a default `DataScienceCluster` object. The following procedure describes how to configure the `DataScienceCluster` object to install {productname-long} components as part of a _new_ installation. 
+
+If you upgraded from version 1 of {productname-short} (previously OpenShift Data Science), the upgrade process automatically creates a default `DataScienceCluster` object. If you upgraded from a previous minor version, the upgrade process used the settings from the previous version's `DataScienceCluster` object. To inspect the `DataScienceCluster` object and change the installation status of {productname-long} components, see link:{rhoaidocshome}{default-format-url}/upgrading_{url-productname-short}/updating-installation-status-of-openshift-ai-components-using-web-console_upgrade[Updating the installation status of {productname-long} components by using the web console].
 ====
 endif::[]
 
@@ -53,15 +55,20 @@ endif::[]
 .Procedure
 ifdef::self-managed[]
 . Log in to the {openshift-platform} web console as a cluster administrator.
+. In the web console, click *Operators* → *Installed Operators* and then click the {productname-long} Operator.
+. Create a `DataScienceCluster` object to install {productname-short} components by performing the following actions:
+.. Click the *Data Science Cluster* tab.
+.. Click *Create DataScienceCluster*.
+.. For *Configure via*, select *YAML view*. 
 endif::[]
 ifdef::cloud-service[]
 . Log in to the OpenShift web console as a cluster administrator.
-endif::[]
 . In the web console, click *Operators* → *Installed Operators* and then click the {productname-long} Operator.
-. Create a `DataScienceCluster` object to install {productname-short} components by performing the following actions:
+. Configure the `DataScienceCluster` object to install {productname-short} components by performing the following actions:
 .. Click the *Data Science Cluster* tab.
-.. Click *Create DataScienceCluster*.
-.. For *Configure via*, select *YAML view*.
+.. Click on the `default-dsc` object.
+.. Select the *YAML* tab.
+endif::[]
 +
 An embedded YAML editor opens showing a default custom resource (CR) for the `DataScienceCluster` object.
 .. In the `spec.components` section of the CR, for each {productname-short} component shown, set the value of the `managementState` field to either `Managed` or `Removed`. These values are defined as follows:
@@ -84,8 +91,12 @@ The Operator actively manages the component but does not install it. If the comp
 * To learn how to configure the distributed workloads feature that uses the CodeFlare and KubeRay components, see link:{rhoaidocshome}{default-format-url}/working_on_data_science_projects/working-with-distributed-workloads_distributed-workloads#configuring-distributed-workloads_distributed-workloads[Configuring distributed workloads].
 
 ====
-
+ifdef::self-managed[]
 . Click *Create*.
+endif::[]
+ifdef::cloud-service[]
+. Click *Save*.
+endif::[]
 
 .Verification
 * On the *DataScienceClusters* page, click the `default-dsc` object and then perform the following actions:
syaseen@syaseen-mac modules % q!
zsh: command not found: q!
syaseen@syaseen-mac modules % ls
about-the-single-model-serving-platform.adoc							installing-the-openshift-data-science-operator-using-web-console.adoc
accessing-api-endpoints-for-models-deployed-on-single-model-server.adoc				known-issues.adoc
accessing-data-science-dashboard.adoc								limited-availability-features.adoc
adding-administrative-users-for-openshift-container-platform.adoc				limited-support-features.adoc
adding-administrative-users-in-openshift.adoc							listing-available-amazon-s3-buckets-using-notebook-cells.adoc
adding-existing-user-groups-from-an-identity-provider-to-openshift-data-science.adoc		listing-files-in-available-amazon-s3-buckets-using-notebook-cells.adoc
api-tiers.adoc											making-open-source-more-inclusive.adoc
architecture-of-openshift-ai-self-managed.adoc							manually-installing-kserve.adoc
architecture-of-openshift-ai.adoc								mirroring-images-to-a-private-registry-for-a-disconnected-installation.adoc
assigning-access-permissions-to-the-kafka-service-account.adoc					new-features-and-enhancements.adoc
backing-up-storage-data-from-amazon-ebs.adoc							new-features.adoc
backing-up-storage-data-from-google-persistent-disk.adoc					options-for-resources-owned-by-deleted-users.adoc
build												overview-of-openshift-ai.adoc
cleaning-up-operator-resources-from-version1.adoc						overview-of-upgrading-openshift-data-science-self-managed.adoc
configuring-an-identity-provider.adoc								overview-of-upgrading-openshift-data-science.adoc
configuring-automated-installation-of-kserve.adoc						product-features-intro.adoc
configuring-monitoring-for-the-single-model-serving-platform.adoc				product-features.adoc
configuring-the-upgrade-strategy-for-openshift-data-science.adoc				providing-feedback-on-red-hat-documentation.adoc
configuring-your-notebook-server-for-kafka.adoc							removing-unused-resources-using-cli.adoc
connecting-openshift-data-science-to-openshift-streams-for-apache-kafka.adoc			removing-unused-resources-using-web-console.adoc
connecting-to-external-applications-from-openshift-data-science.adoc				requirements-for-openshift-data-science-self-managed.adoc
creating-a-kafka-instance.adoc									requirements-for-openshift-data-science.adoc
creating-a-kafka-service-account.adoc								requirements-for-upgrading-openshift-ai.adoc
creating-a-kafka-topic.adoc									resolved-issues.adoc
creating-a-knative-serving-instance.adoc							sharing-the-instance-address-with-users.adoc
creating-a-pipeline-in-jupyterlab.adoc								snippets
creating-a-service-mesh-instance.adoc								subscribing-to-openshift-data-science-add-on.adoc
creating-an-amazon-s3-client-using-notebook-cells.adoc						support-removals.adoc
creating-secure-gateways-for-knative-serving.adoc						supported-browsers.adoc
definining-pipeline-parameters-in-jupyterlab.adoc						supported-packages.adoc
deploying-models-on-the-single-model-serving-platform.adoc					supported-services.adoc
deploying-models-using-the-single-model-serving-platform.adoc					technology-preview-features.adoc
deploying-openshift-ai-in-a-disconnected-environment.adoc					troubleshooting-common-installation-problems.adoc
disabling-usage-data-collection.adoc								understanding-the-uninstallation-process.adoc
downloading-files-from-available-amazon-s3-buckets-using-notebook-cells.adoc			uninstalling-openshift-data-science-self-managed.adoc
enabling-the-single-model-serving-platform.adoc							uninstalling-openshift-data-science.adoc
enabling-usage-data-collection.adoc								updating-installation-status-of-openshift-data-science-components-using-web-console.adoc
example-of-a-kafka-consumer.adoc								updating-your-project-with-changes-from-a-remote-git-repository.adoc
example-of-a-kafka-producer.adoc								upgrading-openshift-data-science-in-a-disconnected-environment.adoc
images												uploading-files-to-available-amazon-s3-buckets-using-notebook-cells.adoc
installing-and-deploying-openshift-ai.adoc							usage-data-collection-notice-for-openshift-data-science.adoc
installing-kserve-dependencies.adoc								user-types.adoc
installing-kserve.adoc										viewing-data-science-projects.adoc
installing-openshift-data-science-components-using-cli.adoc					viewing-metrics-for-the-single-model-serving-platform.adoc
installing-openshift-data-science-components-using-web-console.adoc				viewing-the-performance-metrics-of-a-deployed-model.adoc
installing-openshift-data-science-managed.adoc							viewing-your-deployed-models.adoc
installing-the-openshift-data-science-operator-using-cli.adoc					viewing-your-published-models.adoc
syaseen@syaseen-mac modules % git status
On branch RHOAIENG-1448
Changes not staged for commit:
  (use "git add <file>..." to update what will be committed)
  (use "git restore <file>..." to discard changes in working directory)
	modified:   installing-openshift-data-science-components-using-web-console.adoc

no changes added to commit (use "git add" and/or "git commit -a")
syaseen@syaseen-mac modules % vi installing-openshift-data-science-components-using-web-console.adoc 
syaseen@syaseen-mac modules % cd ..
syaseen@syaseen-mac openshift-ai-documentation % cd installing-rhoai 
syaseen@syaseen-mac installing-rhoai % ccutil;ccutilopen
WARNING: The requested image's platform (linux/amd64) does not match the detected host platform (linux/arm64/v8) and no specific platform was requested
Transforming the AsciiDoc content to DocBook XML...
Setting up en-US
	Processing file tmp/en-US/xml/Common_Content/Conventions.xml -> tmp/en-US/xml/Common_Content/Conventions.xml
	Processing file tmp/en-US/xml/Common_Content/Feedback.xml -> tmp/en-US/xml/Common_Content/Feedback.xml
	Processing file tmp/en-US/xml/Common_Content/Legal_Notice.xml -> tmp/en-US/xml/Common_Content/Legal_Notice.xml
	Processing file tmp/en-US/xml/Common_Content/Program_Listing.xml -> tmp/en-US/xml/Common_Content/Program_Listing.xml
	Processing file tmp/en-US/xml/Common_Content/Revision_History.xml -> tmp/en-US/xml/Common_Content/Revision_History.xml
	Processing file tmp/en-US/xml_tmp/Author_Group.xml -> tmp/en-US/xml/Author_Group.xml
	Processing file tmp/en-US/xml_tmp/Revision_History.xml -> tmp/en-US/xml/Revision_History.xml
	Processing file tmp/en-US/xml_tmp/master.xml -> tmp/en-US/xml/master.xml
Beginning work on en-US
RelaxNG Validation OK
	Starting html-single
	Using XML::LibXSLT on /usr/share/publican/Common_Content/RedHat-Pantheon-db5/xsl/html-single.xsl
	Finished html-single
syaseen@syaseen-mac installing-rhoai % cd installing-rhoai
syaseen@syaseen-mac installing-rhoai % cd ..
syaseen@syaseen-mac openshift-ai-documentation % cd modules 
syaseen@syaseen-mac modules % vi installing-openshift-data-science-components-using-web-console.adoc
syaseen@syaseen-mac modules % cd ..         
syaseen@syaseen-mac openshift-ai-documentation % cd installing-rhoai 
syaseen@syaseen-mac installing-rhoai % ccutil;ccutilopen                                                     
WARNING: The requested image's platform (linux/amd64) does not match the detected host platform (linux/arm64/v8) and no specific platform was requested
Transforming the AsciiDoc content to DocBook XML...
Setting up en-US
	Processing file tmp/en-US/xml/Common_Content/Conventions.xml -> tmp/en-US/xml/Common_Content/Conventions.xml
	Processing file tmp/en-US/xml/Common_Content/Feedback.xml -> tmp/en-US/xml/Common_Content/Feedback.xml
	Processing file tmp/en-US/xml/Common_Content/Legal_Notice.xml -> tmp/en-US/xml/Common_Content/Legal_Notice.xml
	Processing file tmp/en-US/xml/Common_Content/Program_Listing.xml -> tmp/en-US/xml/Common_Content/Program_Listing.xml
	Processing file tmp/en-US/xml/Common_Content/Revision_History.xml -> tmp/en-US/xml/Common_Content/Revision_History.xml
	Processing file tmp/en-US/xml_tmp/Author_Group.xml -> tmp/en-US/xml/Author_Group.xml
	Processing file tmp/en-US/xml_tmp/Revision_History.xml -> tmp/en-US/xml/Revision_History.xml
	Processing file tmp/en-US/xml_tmp/master.xml -> tmp/en-US/xml/master.xml
Beginning work on en-US
RelaxNG Validation OK
	Starting html-single
	Using XML::LibXSLT on /usr/share/publican/Common_Content/RedHat-Pantheon-db5/xsl/html-single.xsl
	Finished html-single
syaseen@syaseen-mac installing-rhoai % vi ../modules/installing-openshift-data-science-components-using-web-console.adoc 
syaseen@syaseen-mac installing-rhoai % ccutil;ccutilopen                                                                
WARNING: The requested image's platform (linux/amd64) does not match the detected host platform (linux/arm64/v8) and no specific platform was requested
Transforming the AsciiDoc content to DocBook XML...
Setting up en-US
	Processing file tmp/en-US/xml/Common_Content/Conventions.xml -> tmp/en-US/xml/Common_Content/Conventions.xml
	Processing file tmp/en-US/xml/Common_Content/Feedback.xml -> tmp/en-US/xml/Common_Content/Feedback.xml
	Processing file tmp/en-US/xml/Common_Content/Legal_Notice.xml -> tmp/en-US/xml/Common_Content/Legal_Notice.xml
	Processing file tmp/en-US/xml/Common_Content/Program_Listing.xml -> tmp/en-US/xml/Common_Content/Program_Listing.xml
	Processing file tmp/en-US/xml/Common_Content/Revision_History.xml -> tmp/en-US/xml/Common_Content/Revision_History.xml
	Processing file tmp/en-US/xml_tmp/Author_Group.xml -> tmp/en-US/xml/Author_Group.xml
	Processing file tmp/en-US/xml_tmp/Revision_History.xml -> tmp/en-US/xml/Revision_History.xml
	Processing file tmp/en-US/xml_tmp/master.xml -> tmp/en-US/xml/master.xml
Beginning work on en-US
RelaxNG Validation OK
	Starting html-single
	Using XML::LibXSLT on /usr/share/publican/Common_Content/RedHat-Pantheon-db5/xsl/html-single.xsl
	Finished html-single
syaseen@syaseen-mac installing-rhoai % vi ../modules/installing-openshift-data-science-components-using-web-console.adoc
syaseen@syaseen-mac installing-rhoai % ccutil;ccutilopen                                                                
WARNING: The requested image's platform (linux/amd64) does not match the detected host platform (linux/arm64/v8) and no specific platform was requested
Transforming the AsciiDoc content to DocBook XML...
Setting up en-US
	Processing file tmp/en-US/xml/Common_Content/Conventions.xml -> tmp/en-US/xml/Common_Content/Conventions.xml
	Processing file tmp/en-US/xml/Common_Content/Feedback.xml -> tmp/en-US/xml/Common_Content/Feedback.xml
	Processing file tmp/en-US/xml/Common_Content/Legal_Notice.xml -> tmp/en-US/xml/Common_Content/Legal_Notice.xml
	Processing file tmp/en-US/xml/Common_Content/Program_Listing.xml -> tmp/en-US/xml/Common_Content/Program_Listing.xml
	Processing file tmp/en-US/xml/Common_Content/Revision_History.xml -> tmp/en-US/xml/Common_Content/Revision_History.xml
	Processing file tmp/en-US/xml_tmp/Author_Group.xml -> tmp/en-US/xml/Author_Group.xml
	Processing file tmp/en-US/xml_tmp/Revision_History.xml -> tmp/en-US/xml/Revision_History.xml
	Processing file tmp/en-US/xml_tmp/master.xml -> tmp/en-US/xml/master.xml
Beginning work on en-US
RelaxNG Validation OK
	Starting html-single
	Using XML::LibXSLT on /usr/share/publican/Common_Content/RedHat-Pantheon-db5/xsl/html-single.xsl
	Finished html-single
syaseen@syaseen-mac installing-rhoai % vi ../modules/installing-openshift-data-science-components-using-web-console.adoc
syaseen@syaseen-mac installing-rhoai % ccutil;ccutilopen                                                                
WARNING: The requested image's platform (linux/amd64) does not match the detected host platform (linux/arm64/v8) and no specific platform was requested
Transforming the AsciiDoc content to DocBook XML...
Setting up en-US
	Processing file tmp/en-US/xml/Common_Content/Conventions.xml -> tmp/en-US/xml/Common_Content/Conventions.xml
	Processing file tmp/en-US/xml/Common_Content/Feedback.xml -> tmp/en-US/xml/Common_Content/Feedback.xml
	Processing file tmp/en-US/xml/Common_Content/Legal_Notice.xml -> tmp/en-US/xml/Common_Content/Legal_Notice.xml
	Processing file tmp/en-US/xml/Common_Content/Program_Listing.xml -> tmp/en-US/xml/Common_Content/Program_Listing.xml
	Processing file tmp/en-US/xml/Common_Content/Revision_History.xml -> tmp/en-US/xml/Common_Content/Revision_History.xml
	Processing file tmp/en-US/xml_tmp/Author_Group.xml -> tmp/en-US/xml/Author_Group.xml
	Processing file tmp/en-US/xml_tmp/Revision_History.xml -> tmp/en-US/xml/Revision_History.xml
	Processing file tmp/en-US/xml_tmp/master.xml -> tmp/en-US/xml/master.xml
Beginning work on en-US
RelaxNG Validation OK
	Starting html-single
	Using XML::LibXSLT on /usr/share/publican/Common_Content/RedHat-Pantheon-db5/xsl/html-single.xsl
	Finished html-single
syaseen@syaseen-mac installing-rhoai % vi ../modules/installing-openshift-data-science-components-using-web-console.adoc
syaseen@syaseen-mac installing-rhoai % ccutil;ccutilopen                                                                
WARNING: The requested image's platform (linux/amd64) does not match the detected host platform (linux/arm64/v8) and no specific platform was requested
Transforming the AsciiDoc content to DocBook XML...
Setting up en-US
	Processing file tmp/en-US/xml/Common_Content/Conventions.xml -> tmp/en-US/xml/Common_Content/Conventions.xml
	Processing file tmp/en-US/xml/Common_Content/Feedback.xml -> tmp/en-US/xml/Common_Content/Feedback.xml
	Processing file tmp/en-US/xml/Common_Content/Legal_Notice.xml -> tmp/en-US/xml/Common_Content/Legal_Notice.xml
	Processing file tmp/en-US/xml/Common_Content/Program_Listing.xml -> tmp/en-US/xml/Common_Content/Program_Listing.xml
	Processing file tmp/en-US/xml/Common_Content/Revision_History.xml -> tmp/en-US/xml/Common_Content/Revision_History.xml
	Processing file tmp/en-US/xml_tmp/Author_Group.xml -> tmp/en-US/xml/Author_Group.xml
	Processing file tmp/en-US/xml_tmp/Revision_History.xml -> tmp/en-US/xml/Revision_History.xml
	Processing file tmp/en-US/xml_tmp/master.xml -> tmp/en-US/xml/master.xml
Beginning work on en-US
RelaxNG Validation OK
	Starting html-single
	Using XML::LibXSLT on /usr/share/publican/Common_Content/RedHat-Pantheon-db5/xsl/html-single.xsl
	Finished html-single
syaseen@syaseen-mac installing-rhoai % vi ../modules/installing-openshift-data-science-components-using-web-console.adoc
syaseen@syaseen-mac installing-rhoai % ccutil;ccutilopen                                                                
WARNING: The requested image's platform (linux/amd64) does not match the detected host platform (linux/arm64/v8) and no specific platform was requested
Transforming the AsciiDoc content to DocBook XML...
Setting up en-US
	Processing file tmp/en-US/xml/Common_Content/Conventions.xml -> tmp/en-US/xml/Common_Content/Conventions.xml
	Processing file tmp/en-US/xml/Common_Content/Feedback.xml -> tmp/en-US/xml/Common_Content/Feedback.xml
	Processing file tmp/en-US/xml/Common_Content/Legal_Notice.xml -> tmp/en-US/xml/Common_Content/Legal_Notice.xml
	Processing file tmp/en-US/xml/Common_Content/Program_Listing.xml -> tmp/en-US/xml/Common_Content/Program_Listing.xml
	Processing file tmp/en-US/xml/Common_Content/Revision_History.xml -> tmp/en-US/xml/Common_Content/Revision_History.xml
	Processing file tmp/en-US/xml_tmp/Author_Group.xml -> tmp/en-US/xml/Author_Group.xml
	Processing file tmp/en-US/xml_tmp/Revision_History.xml -> tmp/en-US/xml/Revision_History.xml
	Processing file tmp/en-US/xml_tmp/master.xml -> tmp/en-US/xml/master.xml
Beginning work on en-US
RelaxNG Validation OK
	Starting html-single
	Using XML::LibXSLT on /usr/share/publican/Common_Content/RedHat-Pantheon-db5/xsl/html-single.xsl
	Finished html-single
syaseen@syaseen-mac installing-rhoai % vi ../modules/installing-openshift-data-science-components-using-web-console.adoc
syaseen@syaseen-mac installing-rhoai % ccutil;ccutilopen                                                                
WARNING: The requested image's platform (linux/amd64) does not match the detected host platform (linux/arm64/v8) and no specific platform was requested
Transforming the AsciiDoc content to DocBook XML...
Setting up en-US
	Processing file tmp/en-US/xml/Common_Content/Conventions.xml -> tmp/en-US/xml/Common_Content/Conventions.xml
	Processing file tmp/en-US/xml/Common_Content/Feedback.xml -> tmp/en-US/xml/Common_Content/Feedback.xml
	Processing file tmp/en-US/xml/Common_Content/Legal_Notice.xml -> tmp/en-US/xml/Common_Content/Legal_Notice.xml
	Processing file tmp/en-US/xml/Common_Content/Program_Listing.xml -> tmp/en-US/xml/Common_Content/Program_Listing.xml
	Processing file tmp/en-US/xml/Common_Content/Revision_History.xml -> tmp/en-US/xml/Common_Content/Revision_History.xml
	Processing file tmp/en-US/xml_tmp/Author_Group.xml -> tmp/en-US/xml/Author_Group.xml
	Processing file tmp/en-US/xml_tmp/Revision_History.xml -> tmp/en-US/xml/Revision_History.xml
	Processing file tmp/en-US/xml_tmp/master.xml -> tmp/en-US/xml/master.xml
Beginning work on en-US
RelaxNG Validation OK
	Starting html-single
	Using XML::LibXSLT on /usr/share/publican/Common_Content/RedHat-Pantheon-db5/xsl/html-single.xsl
	Finished html-single
syaseen@syaseen-mac installing-rhoai % vi ../modules/installing-openshift-data-science-components-using-web-console.adoc
syaseen@syaseen-mac installing-rhoai % ccutil;ccutilopen                                                                
WARNING: The requested image's platform (linux/amd64) does not match the detected host platform (linux/arm64/v8) and no specific platform was requested
Transforming the AsciiDoc content to DocBook XML...
Setting up en-US
	Processing file tmp/en-US/xml/Common_Content/Conventions.xml -> tmp/en-US/xml/Common_Content/Conventions.xml
	Processing file tmp/en-US/xml/Common_Content/Feedback.xml -> tmp/en-US/xml/Common_Content/Feedback.xml
	Processing file tmp/en-US/xml/Common_Content/Legal_Notice.xml -> tmp/en-US/xml/Common_Content/Legal_Notice.xml
	Processing file tmp/en-US/xml/Common_Content/Program_Listing.xml -> tmp/en-US/xml/Common_Content/Program_Listing.xml
	Processing file tmp/en-US/xml/Common_Content/Revision_History.xml -> tmp/en-US/xml/Common_Content/Revision_History.xml
	Processing file tmp/en-US/xml_tmp/Author_Group.xml -> tmp/en-US/xml/Author_Group.xml
	Processing file tmp/en-US/xml_tmp/Revision_History.xml -> tmp/en-US/xml/Revision_History.xml
	Processing file tmp/en-US/xml_tmp/master.xml -> tmp/en-US/xml/master.xml
Beginning work on en-US
RelaxNG Validation OK
	Starting html-single
	Using XML::LibXSLT on /usr/share/publican/Common_Content/RedHat-Pantheon-db5/xsl/html-single.xsl
	Finished html-single
syaseen@syaseen-mac installing-rhoai % vi ../modules/installing-openshift-data-science-components-using-web-console.adoc
syaseen@syaseen-mac installing-rhoai % git diff modules/installing-openshift-data-science-components-using-web-console.adoc 
syaseen@syaseen-mac installing-rhoai % cd ..
syaseen@syaseen-mac openshift-ai-documentation % git diff modules/installing-openshift-data-science-components-using-web-console.adoc 
diff --git a/modules/installing-openshift-data-science-components-using-web-console.adoc b/modules/installing-openshift-data-science-components-using-web-console.adoc
index 5173f5c49..c835625d6 100644
--- a/modules/installing-openshift-data-science-components-using-web-console.adoc
+++ b/modules/installing-openshift-data-science-components-using-web-console.adoc
@@ -4,7 +4,13 @@
 = Installing {productname-long} components by using the web console
 
 [role='_abstract']
+ifdef::self-managed[]
 The following procedure shows how to use the {openshift-platform} web console to install specific components of {productname-long} on your cluster.
+endif::[]
+
+ifdef::cloud-service[]
+The following procedure shows how to use the OpenShift web console to install specific components of {productname-long} on your cluster.
+endif::[]
 
 ifdef::self-managed[]
 ifndef::disconnected[]
@@ -18,7 +24,9 @@ endif::[]
 ifdef::cloud-service[]
 [IMPORTANT]
 ====
-The following procedure describes how to create and configure a `DataScienceCluster` object to install {productname-long} components as part of a _new_ installation. However, if you upgraded from version 1 of {productname-short} (previously OpenShift Data Science), the upgrade process automatically created a default `DataScienceCluster` object. If you upgraded from a previous minor version, the upgrade process used the settings from the previous version's `DataScienceCluster` object. To inspect the `DataScienceCluster` object and change the installation status of {productname-long} components, see link:{rhoaidocshome}{default-format-url}/upgrading_{url-productname-short}/updating-installation-status-of-openshift-ai-components-using-web-console_upgrade[Updating the installation status of {productname-long} components by using the web console].
+When you install {productname-long} as an Add-on to your OpenShift cluster, the install process automatically creates a default `DataScienceCluster` object. The following procedure describes how to configure the `DataScienceCluster` object to install {productname-long} components as part of a _new_ installation. 
+
+If you upgraded from version 1 of {productname-short} (previously OpenShift Data Science), the upgrade process automatically creates a default `DataScienceCluster` object. If you upgraded from a previous minor version, the upgrade process uses the settings from the previous version's `DataScienceCluster` object. To inspect the `DataScienceCluster` object and change the installation status of {productname-long} components, see link:{rhoaidocshome}{default-format-url}/upgrading_{url-productname-short}/updating-installation-status-of-openshift-ai-components-using-web-console_upgrade[Updating the installation status of {productname-long} components by using the web console].
 ====
 endif::[]
 
@@ -53,18 +61,23 @@ endif::[]
 .Procedure
 ifdef::self-managed[]
 . Log in to the {openshift-platform} web console as a cluster administrator.
+. In the web console, click *Operators* → *Installed Operators* and then click the {productname-long} Operator.
+. Create a `DataScienceCluster` object to install {productname-short} components by performing the following actions:
+.. Click the *Data Science Cluster* tab.
+.. Click *Create DataScienceCluster*.
+.. For *Configure via*, select *YAML view*. 
 endif::[]
 ifdef::cloud-service[]
 . Log in to the OpenShift web console as a cluster administrator.
-endif::[]
 . In the web console, click *Operators* → *Installed Operators* and then click the {productname-long} Operator.
-. Create a `DataScienceCluster` object to install {productname-short} components by performing the following actions:
+. Configure the `DataScienceCluster` object to install {productname-short} components by performing the following actions:
 .. Click the *Data Science Cluster* tab.
-.. Click *Create DataScienceCluster*.
-.. For *Configure via*, select *YAML view*.
+.. Click on the `default-dsc` object.
+.. Select the *YAML* tab.
+endif::[]
 +
 An embedded YAML editor opens showing a default custom resource (CR) for the `DataScienceCluster` object.
-.. In the `spec.components` section of the CR, for each {productname-short} component shown, set the value of the `managementState` field to either `Managed` or `Removed`. These values are defined as follows:
+.. In the `spec.components` section of the CR, for each {productname-short} component shown, you can set the value of the `managementState` field to either `Managed` or `Removed`. These values are defined as follows:
 +
 --
 Managed::
@@ -74,6 +87,15 @@ Removed::
 The Operator actively manages the component but does not install it. If the component is already installed, the Operator will try to remove it.
 --
 +
+Set the value of the `managementState` field of each {productname-short} component to `Managed` or `Removed` as required, for example:
++
+[source]
+----
+workbenches:
+      devFlags: {}
+      managementState: Managed
+----
++
 [IMPORTANT]
 ====
 
@@ -84,13 +106,24 @@ The Operator actively manages the component but does not install it. If the comp
 * To learn how to configure the distributed workloads feature that uses the CodeFlare and KubeRay components, see link:{rhoaidocshome}{default-format-url}/working_on_data_science_projects/working-with-distributed-workloads_distributed-workloads#configuring-distributed-workloads_distributed-workloads[Configuring distributed workloads].
 
 ====
-
+ifdef::self-managed[]
 . Click *Create*.
+endif::[]
+ifdef::cloud-service[]
+. Click *Save*.
+endif::[]
 
 .Verification
 * On the *DataScienceClusters* page, click the `default-dsc` object and then perform the following actions:
 ** Select the *YAML* tab.
 ** In the `installedComponents` section, confirm that the components you installed have a status value of `true`.
++
+[source]
+----
+installedComponents:
+  workbenches: true
+----
++
 ifdef::self-managed[]
 * In the {openshift-platform} web console, click *Workloads* → *Pods* and then perform the following actions:
 endif::[]
@@ -99,6 +132,3 @@ ifdef::cloud-service[]
 endif::[]
 ** In the *Project* list at the top of the page, select the `redhat-ods-applications` project. 
 ** In the project, confirm that there are running pods for each of the {productname-short} components that you installed.
-
-
-
syaseen@syaseen-mac openshift-ai-documentation % cd self-managed-installing-rhoai 
syaseen@syaseen-mac self-managed-installing-rhoai % ccutil;ccutilopen                                                                   
WARNING: The requested image's platform (linux/amd64) does not match the detected host platform (linux/arm64/v8) and no specific platform was requested
Transforming the AsciiDoc content to DocBook XML...
Setting up en-US
	Processing file tmp/en-US/xml/Common_Content/Conventions.xml -> tmp/en-US/xml/Common_Content/Conventions.xml
	Processing file tmp/en-US/xml/Common_Content/Feedback.xml -> tmp/en-US/xml/Common_Content/Feedback.xml
	Processing file tmp/en-US/xml/Common_Content/Legal_Notice.xml -> tmp/en-US/xml/Common_Content/Legal_Notice.xml
	Processing file tmp/en-US/xml/Common_Content/Program_Listing.xml -> tmp/en-US/xml/Common_Content/Program_Listing.xml
	Processing file tmp/en-US/xml/Common_Content/Revision_History.xml -> tmp/en-US/xml/Common_Content/Revision_History.xml
	Processing file tmp/en-US/xml_tmp/Author_Group.xml -> tmp/en-US/xml/Author_Group.xml
	Processing file tmp/en-US/xml_tmp/Revision_History.xml -> tmp/en-US/xml/Revision_History.xml
	Processing file tmp/en-US/xml_tmp/master.xml -> tmp/en-US/xml/master.xml
Beginning work on en-US
RelaxNG Validation OK
	Starting html-single
	Using XML::LibXSLT on /usr/share/publican/Common_Content/RedHat-Pantheon-db5/xsl/html-single.xsl
	Finished html-single
syaseen@syaseen-mac self-managed-installing-rhoai % vi ../modules/installing-openshift-data-science-components-using-web-console.adoc   
syaseen@syaseen-mac self-managed-installing-rhoai % cd ..
syaseen@syaseen-mac openshift-ai-documentation % git status
On branch RHOAIENG-1448
Changes not staged for commit:
  (use "git add <file>..." to update what will be committed)
  (use "git restore <file>..." to discard changes in working directory)
	modified:   modules/installing-openshift-data-science-components-using-web-console.adoc

Untracked files:
  (use "git add <file>..." to include in what will be committed)
	modules/.accessing-api-endpoints-for-models-deployed-on-single-model-server.adoc.swp

no changes added to commit (use "git add" and/or "git commit -a")
syaseen@syaseen-mac openshift-ai-documentation % git status
On branch RHOAIENG-1448
Changes not staged for commit:
  (use "git add <file>..." to update what will be committed)
  (use "git restore <file>..." to discard changes in working directory)
	modified:   modules/installing-openshift-data-science-components-using-web-console.adoc

no changes added to commit (use "git add" and/or "git commit -a")
syaseen@syaseen-mac openshift-ai-documentation % git branch
  RHOAIENG-1286
  RHOAIENG-1294
  RHOAIENG-1440
* RHOAIENG-1448
  RHOAIENG-1450
  RHOAIENG-1466
  RHOAIENG-1540
  RHOAIENG-1914
  RHOAIENG-1916
  RHOAIENG-1917
  RHOAIENG-2134
  RHOAIENG-2670
  RHOAIENG-2828
  RHOAIENG-649
  RHOAIENG-666
  RHOAIENG-973
  RHODS-12921
  RHODS-13009
  RHODS-13014
  RHODS-13068
  RHODS-13077
  RHODS-13082
  main
  openshift-ai-documentation-RHODS-12921
syaseen@syaseen-mac openshift-ai-documentation % git add modules/installing-openshift-data-science-components-using-web-console.adoc 
syaseen@syaseen-mac openshift-ai-documentation % git commit -m "minor tweak in procedure for cloud service"
[RHOAIENG-1448 6ed7574f8] minor tweak in procedure for cloud service
 1 file changed, 40 insertions(+), 10 deletions(-)
syaseen@syaseen-mac openshift-ai-documentation % git fetch --all
Fetching origin
Enter passphrase for key '/Users/syaseen/.ssh/id_rsa': 
Fetching upstream
Enter passphrase for key '/Users/syaseen/.ssh/id_rsa': 
syaseen@syaseen-mac openshift-ai-documentation % git rebase upstream/main
Current branch RHOAIENG-1448 is up to date.
syaseen@syaseen-mac openshift-ai-documentation % git push origin HEAD
Enter passphrase for key '/Users/syaseen/.ssh/id_rsa': 
Enumerating objects: 7, done.
Counting objects: 100% (7/7), done.
Delta compression using up to 10 threads
Compressing objects: 100% (4/4), done.
Writing objects: 100% (4/4), 821 bytes | 821.00 KiB/s, done.
Total 4 (delta 3), reused 0 (delta 0), pack-reused 0
remote: 
remote: To create a merge request for RHOAIENG-1448, visit:
remote:   https://gitlab.cee.redhat.com/syaseen/openshift-ai-documentation/-/merge_requests/new?merge_request%5Bsource_branch%5D=RHOAIENG-1448
remote: 
To gitlab.cee.redhat.com:syaseen/openshift-ai-documentation.git
 * [new branch]          HEAD -> RHOAIENG-1448
syaseen@syaseen-mac openshift-ai-documentation % vi ../modules/installing-openshift-data-science-components-using-web-console.adoc  
syaseen@syaseen-mac openshift-ai-documentation % vi modules/installing-openshift-data-science-components-using-web-console.adoc 
syaseen@syaseen-mac openshift-ai-documentation % vi modules/installing-openshift-data-science-components-using-web-console.adoc 
syaseen@syaseen-mac openshift-ai-documentation % git checkout RHOAIENG-1448
syaseen@syaseen-mac modules % vi installing-openshift-data-science-components-using-web-console.adoc 
syaseen@syaseen-mac modules % cd ..     
syaseen@syaseen-mac openshift-ai-documentation % vi _artifacts/document-attributes-self-managed.adoc 
syaseen@syaseen-mac openshift-ai-documentation % vi _artifacts/document-attributes-global.adoc 
syaseen@syaseen-mac openshift-ai-documentation % 











































syaseen@syaseen-mac openshift-ai-documentation % vi _artifacts/document-attributes-global.adoc
syaseen@syaseen-mac openshift-ai-documentation % cd ..
syaseen@syaseen-mac ~ % ls
AsciiDocTutorial			Downloads				Pictures				git_commands.txt			opendatahub-documentation		test.txt
AsciiDocTutorialEp2			Library					Public					important_commands.txt			opendatahub.io
Desktop					Movies					RHODS-10182.txt				metrobus-repairs-nlp-workshop-1		openshift-ai-documentation
Documents				Music					fixing_file_rename_conflict.txt		metrobus-repairs-nlp-workshop-sy	openshift-data-science-documentation
syaseen@syaseen-mac ~ % cd openshift-ai-documentation 
syaseen@syaseen-mac openshift-ai-documentation % ls
README.md					installing-rhods				release-notes					self-managed-installing-rhods			self-managed-upgrading-rhoai
_artifacts					integrating-data-from-amazon-s3			self-managed-developing-a-model			self-managed-integrating-data-from-amazon-s3	self-managed-working-on-data-science-projects
assemblies					introduction-to-rhoai				self-managed-disconnected-installing-rhoai	self-managed-introduction-to-rhoai		serving-models
developing-a-model				introduction-to-rhods				self-managed-disconnected-installing-rhods	self-managed-managing-resources			snippets
fraud-detection-tutorial			managing-resources				self-managed-disconnected-upgrading-rhoai	self-managed-managing-users			upgrading-rhoai
getting-started-with-rhoai			managing-users					self-managed-fraud-detection-tutorial		self-managed-monitoring-models			upstream
images						modules						self-managed-getting-started-with-rhoai		self-managed-release-notes			working-on-data-science-projects
installing-rhoai				monitoring-models				self-managed-installing-rhoai			self-managed-serving-models
syaseen@syaseen-mac openshift-ai-documentation % cd self-managed-disconnected-installing-rhoai 
syaseen@syaseen-mac self-managed-disconnected-installing-rhoai % ls
_artifacts		assemblies		build			images			master-docinfo.xml	master.adoc		modules			snippets		upstream-modules
syaseen@syaseen-mac self-managed-disconnected-installing-rhoai % cd modules 
syaseen@syaseen-mac modules % ls
about-the-single-model-serving-platform.adoc							installing-the-openshift-data-science-operator-using-web-console.adoc
accessing-api-endpoints-for-models-deployed-on-single-model-server.adoc				known-issues.adoc
accessing-data-science-dashboard.adoc								limited-availability-features.adoc
adding-administrative-users-for-openshift-container-platform.adoc				limited-support-features.adoc
adding-administrative-users-in-openshift.adoc							listing-available-amazon-s3-buckets-using-notebook-cells.adoc
adding-existing-user-groups-from-an-identity-provider-to-openshift-data-science.adoc		listing-files-in-available-amazon-s3-buckets-using-notebook-cells.adoc
api-tiers.adoc											making-open-source-more-inclusive.adoc
architecture-of-openshift-ai-self-managed.adoc							manually-installing-kserve.adoc
architecture-of-openshift-ai.adoc								mirroring-images-to-a-private-registry-for-a-disconnected-installation.adoc
assigning-access-permissions-to-the-kafka-service-account.adoc					new-features-and-enhancements.adoc
backing-up-storage-data-from-amazon-ebs.adoc							new-features.adoc
backing-up-storage-data-from-google-persistent-disk.adoc					options-for-resources-owned-by-deleted-users.adoc
build												overview-of-openshift-ai.adoc
cleaning-up-operator-resources-from-version1.adoc						overview-of-upgrading-openshift-data-science-self-managed.adoc
configuring-an-identity-provider.adoc								overview-of-upgrading-openshift-data-science.adoc
configuring-automated-installation-of-kserve.adoc						product-features-intro.adoc
configuring-monitoring-for-the-single-model-serving-platform.adoc				product-features.adoc
configuring-the-upgrade-strategy-for-openshift-data-science.adoc				providing-feedback-on-red-hat-documentation.adoc
configuring-your-notebook-server-for-kafka.adoc							removing-unused-resources-using-cli.adoc
connecting-openshift-data-science-to-openshift-streams-for-apache-kafka.adoc			removing-unused-resources-using-web-console.adoc
connecting-to-external-applications-from-openshift-data-science.adoc				requirements-for-openshift-data-science-self-managed.adoc
creating-a-kafka-instance.adoc									requirements-for-openshift-data-science.adoc
creating-a-kafka-service-account.adoc								requirements-for-upgrading-openshift-ai.adoc
creating-a-kafka-topic.adoc									resolved-issues.adoc
creating-a-knative-serving-instance.adoc							sharing-the-instance-address-with-users.adoc
creating-a-pipeline-in-jupyterlab.adoc								snippets
creating-a-service-mesh-instance.adoc								subscribing-to-openshift-data-science-add-on.adoc
creating-an-amazon-s3-client-using-notebook-cells.adoc						support-removals.adoc
creating-secure-gateways-for-knative-serving.adoc						supported-browsers.adoc
definining-pipeline-parameters-in-jupyterlab.adoc						supported-packages.adoc
deploying-models-on-the-single-model-serving-platform.adoc					supported-services.adoc
deploying-models-using-the-single-model-serving-platform.adoc					technology-preview-features.adoc
deploying-openshift-ai-in-a-disconnected-environment.adoc					troubleshooting-common-installation-problems.adoc
disabling-usage-data-collection.adoc								understanding-the-uninstallation-process.adoc
downloading-files-from-available-amazon-s3-buckets-using-notebook-cells.adoc			uninstalling-openshift-data-science-self-managed.adoc
enabling-the-single-model-serving-platform.adoc							uninstalling-openshift-data-science.adoc
enabling-usage-data-collection.adoc								updating-installation-status-of-openshift-data-science-components-using-web-console.adoc
example-of-a-kafka-consumer.adoc								updating-your-project-with-changes-from-a-remote-git-repository.adoc
example-of-a-kafka-producer.adoc								upgrading-openshift-data-science-in-a-disconnected-environment.adoc
images												uploading-files-to-available-amazon-s3-buckets-using-notebook-cells.adoc
installing-and-deploying-openshift-ai.adoc							usage-data-collection-notice-for-openshift-data-science.adoc
installing-kserve-dependencies.adoc								user-types.adoc
installing-kserve.adoc										viewing-data-science-projects.adoc
installing-openshift-data-science-components-using-cli.adoc					viewing-metrics-for-the-single-model-serving-platform.adoc
installing-openshift-data-science-components-using-web-console.adoc				viewing-the-performance-metrics-of-a-deployed-model.adoc
installing-openshift-data-science-managed.adoc							viewing-your-deployed-models.adoc
installing-the-openshift-data-science-operator-using-cli.adoc					viewing-your-published-models.adoc
syaseen@syaseen-mac modules % cd ..
syaseen@syaseen-mac self-managed-disconnected-installing-rhoai % cd ..
syaseen@syaseen-mac openshift-ai-documentation % ls
README.md					installing-rhods				release-notes					self-managed-installing-rhods			self-managed-upgrading-rhoai
_artifacts					integrating-data-from-amazon-s3			self-managed-developing-a-model			self-managed-integrating-data-from-amazon-s3	self-managed-working-on-data-science-projects
assemblies					introduction-to-rhoai				self-managed-disconnected-installing-rhoai	self-managed-introduction-to-rhoai		serving-models
developing-a-model				introduction-to-rhods				self-managed-disconnected-installing-rhods	self-managed-managing-resources			snippets
fraud-detection-tutorial			managing-resources				self-managed-disconnected-upgrading-rhoai	self-managed-managing-users			upgrading-rhoai
getting-started-with-rhoai			managing-users					self-managed-fraud-detection-tutorial		self-managed-monitoring-models			upstream
images						modules						self-managed-getting-started-with-rhoai		self-managed-release-notes			working-on-data-science-projects
installing-rhoai				monitoring-models				self-managed-installing-rhoai			self-managed-serving-models
syaseen@syaseen-mac openshift-ai-documentation % git status    
On branch RHOAIENG-1448
nothing to commit, working tree clean
syaseen@syaseen-mac openshift-ai-documentation % git branch
  RHOAIENG-1286
  RHOAIENG-1294
  RHOAIENG-1440
* RHOAIENG-1448
  RHOAIENG-1450
  RHOAIENG-1466
  RHOAIENG-1540
  RHOAIENG-1914
  RHOAIENG-1916
  RHOAIENG-1917
  RHOAIENG-2134
  RHOAIENG-2670
  RHOAIENG-2828
  RHOAIENG-649
  RHOAIENG-666
  RHOAIENG-973
  RHODS-12921
  RHODS-13009
  RHODS-13014
  RHODS-13068
  RHODS-13077
  RHODS-13082
  main
  openshift-ai-documentation-RHODS-12921
syaseen@syaseen-mac openshift-ai-documentation % ls
README.md					installing-rhods				release-notes					self-managed-installing-rhods			self-managed-upgrading-rhoai
_artifacts					integrating-data-from-amazon-s3			self-managed-developing-a-model			self-managed-integrating-data-from-amazon-s3	self-managed-working-on-data-science-projects
assemblies					introduction-to-rhoai				self-managed-disconnected-installing-rhoai	self-managed-introduction-to-rhoai		serving-models
developing-a-model				introduction-to-rhods				self-managed-disconnected-installing-rhods	self-managed-managing-resources			snippets
fraud-detection-tutorial			managing-resources				self-managed-disconnected-upgrading-rhoai	self-managed-managing-users			upgrading-rhoai
getting-started-with-rhoai			managing-users					self-managed-fraud-detection-tutorial		self-managed-monitoring-models			upstream
images						modules						self-managed-getting-started-with-rhoai		self-managed-release-notes			working-on-data-science-projects
installing-rhoai				monitoring-models				self-managed-installing-rhoai			self-managed-serving-models
syaseen@syaseen-mac openshift-ai-documentation % cd modules 
syaseen@syaseen-mac modules % vi installing-openshift-data-science-components-using-web-console.adoc 
syaseen@syaseen-mac modules % git status
On branch RHOAIENG-1448
Changes not staged for commit:
  (use "git add <file>..." to update what will be committed)
  (use "git restore <file>..." to discard changes in working directory)
	modified:   installing-openshift-data-science-components-using-web-console.adoc

no changes added to commit (use "git add" and/or "git commit -a")
syaseen@syaseen-mac modules % git diff installing-openshift-data-science-components-using-web-console.adoc 
diff --git a/modules/installing-openshift-data-science-components-using-web-console.adoc b/modules/installing-openshift-data-science-components-using-web-console.adoc
index 7777315d9..beeeab4ae 100644
--- a/modules/installing-openshift-data-science-components-using-web-console.adoc
+++ b/modules/installing-openshift-data-science-components-using-web-console.adoc
@@ -24,7 +24,7 @@ endif::[]
 ifdef::cloud-service[]
 [IMPORTANT]
 ====
-When you install {productname-long} as an Add-on to your OpenShift cluster, the install process automatically creates a default `DataScienceCluster` object. The following procedure describes how to configure the `DataScienceCluster` object to install {productname-long} components as part of a _new_ installation. 
+When you install {productname-long} as an add-on to your OpenShift cluster, the install process automatically creates a default `DataScienceCluster` object. The following procedure describes how to configure the `DataScienceCluster` object to install {productname-long} components as part of a _new_ installation. 
 
 If you upgraded from version 1 of {productname-short} (previously OpenShift Data Science), the upgrade process also automatically creates a default `DataScienceCluster` object. If you upgraded from a previous minor version, the upgrade process uses the settings from the previous version's `DataScienceCluster` object. To inspect the `DataScienceCluster` object and change the installation status of {productname-long} components, see link:{rhoaidocshome}{default-format-url}/upgrading_{url-productname-short}/updating-installation-status-of-openshift-ai-components-using-web-console_upgrade[Updating the installation status of {productname-long} components by using the web console].
 ====
@@ -51,7 +51,7 @@ endif::[]
 endif::[]
 
 ifdef::cloud-service[]
-* {productname-long} is installed as an Add-on to your {org-name} OpenShift cluster.
+* {productname-long} is installed as an add-on to your {org-name} OpenShift cluster.
 * You have cluster administrator privileges for your OpenShift cluster.
 endif::[]
 ifdef::self-managed[]
@@ -72,12 +72,12 @@ ifdef::cloud-service[]
 . In the web console, click *Operators* → *Installed Operators* and then click the {productname-long} Operator.
 . Configure the `DataScienceCluster` object to install {productname-short} components by performing the following actions:
 .. Click the *Data Science Cluster* tab.
-.. Click on the `default-dsc` object.
+.. Click the *default-dsc* object.
 .. Select the *YAML* tab.
 endif::[]
 +
 An embedded YAML editor opens showing a default custom resource (CR) for the `DataScienceCluster` object.
-.. In the `spec.components` section of the CR, for each {productname-short} component shown, you can set the value of the `managementState` field to either `Managed` or `Removed`. These values are defined as follows:
+.. In the `spec.components` section of the CR, for each {productname-short} component shown, set the value of the `managementState` field to either `Managed` or `Removed`. These values are defined as follows:
 +
 --
 Managed::
@@ -86,16 +86,6 @@ The Operator actively manages the component, installs it, and tries to keep it a
 Removed::
 The Operator actively manages the component but does not install it. If the component is already installed, the Operator will try to remove it.
 --
-+
-Set the value of the `managementState` field of each {productname-short} component to `Managed` or `Removed` as required, for example:
-+
-[source]
-----
-workbenches:
-      devFlags: {}
-      managementState: Managed
-----
-+
 [IMPORTANT]
 ====
 
@@ -116,7 +106,7 @@ endif::[]
 .Verification
 * On the *DataScienceClusters* page, click the `default-dsc` object and then perform the following actions:
 ** Select the *YAML* tab.
-** In the `installedComponents` section, confirm that the components you installed have a status value of `true`.
+** In the `installedComponents` section, confirm that the components you installed have a status value of `true`, as shown in the following example:
 +
 [source]
 ----
syaseen@syaseen-mac modules % cd ..
syaseen@syaseen-mac openshift-ai-documentation % cd serving-models 
syaseen@syaseen-mac serving-models % ccutil;ccutilopen
WARNING: The requested image's platform (linux/amd64) does not match the detected host platform (linux/arm64/v8) and no specific platform was requested
Transforming the AsciiDoc content to DocBook XML...
Setting up en-US
	Processing file tmp/en-US/xml/Common_Content/Conventions.xml -> tmp/en-US/xml/Common_Content/Conventions.xml
	Processing file tmp/en-US/xml/Common_Content/Feedback.xml -> tmp/en-US/xml/Common_Content/Feedback.xml
	Processing file tmp/en-US/xml/Common_Content/Legal_Notice.xml -> tmp/en-US/xml/Common_Content/Legal_Notice.xml
	Processing file tmp/en-US/xml/Common_Content/Program_Listing.xml -> tmp/en-US/xml/Common_Content/Program_Listing.xml
	Processing file tmp/en-US/xml/Common_Content/Revision_History.xml -> tmp/en-US/xml/Common_Content/Revision_History.xml
	Processing file tmp/en-US/xml_tmp/Author_Group.xml -> tmp/en-US/xml/Author_Group.xml
	Processing file tmp/en-US/xml_tmp/Revision_History.xml -> tmp/en-US/xml/Revision_History.xml
	Processing file tmp/en-US/xml_tmp/master.xml -> tmp/en-US/xml/master.xml
Beginning work on en-US
RelaxNG Validation OK
	Starting html-single
	Using XML::LibXSLT on /usr/share/publican/Common_Content/RedHat-Pantheon-db5/xsl/html-single.xsl
	Finished html-single
syaseen@syaseen-mac serving-models % cd ..
syaseen@syaseen-mac openshift-ai-documentation % cd installing-rhoai 
syaseen@syaseen-mac installing-rhoai % ccutil;ccutilopen  
WARNING: The requested image's platform (linux/amd64) does not match the detected host platform (linux/arm64/v8) and no specific platform was requested
Transforming the AsciiDoc content to DocBook XML...
Setting up en-US
	Processing file tmp/en-US/xml/Common_Content/Conventions.xml -> tmp/en-US/xml/Common_Content/Conventions.xml
	Processing file tmp/en-US/xml/Common_Content/Feedback.xml -> tmp/en-US/xml/Common_Content/Feedback.xml
	Processing file tmp/en-US/xml/Common_Content/Legal_Notice.xml -> tmp/en-US/xml/Common_Content/Legal_Notice.xml
	Processing file tmp/en-US/xml/Common_Content/Program_Listing.xml -> tmp/en-US/xml/Common_Content/Program_Listing.xml
	Processing file tmp/en-US/xml/Common_Content/Revision_History.xml -> tmp/en-US/xml/Common_Content/Revision_History.xml
	Processing file tmp/en-US/xml_tmp/Author_Group.xml -> tmp/en-US/xml/Author_Group.xml
	Processing file tmp/en-US/xml_tmp/Revision_History.xml -> tmp/en-US/xml/Revision_History.xml
	Processing file tmp/en-US/xml_tmp/master.xml -> tmp/en-US/xml/master.xml
Beginning work on en-US
RelaxNG Validation OK
	Starting html-single
	Using XML::LibXSLT on /usr/share/publican/Common_Content/RedHat-Pantheon-db5/xsl/html-single.xsl
	Finished html-single
syaseen@syaseen-mac installing-rhoai % ccutil;ccutilopen
WARNING: The requested image's platform (linux/amd64) does not match the detected host platform (linux/arm64/v8) and no specific platform was requested
Transforming the AsciiDoc content to DocBook XML...
Setting up en-US
	Processing file tmp/en-US/xml/Common_Content/Conventions.xml -> tmp/en-US/xml/Common_Content/Conventions.xml
	Processing file tmp/en-US/xml/Common_Content/Feedback.xml -> tmp/en-US/xml/Common_Content/Feedback.xml
	Processing file tmp/en-US/xml/Common_Content/Legal_Notice.xml -> tmp/en-US/xml/Common_Content/Legal_Notice.xml
	Processing file tmp/en-US/xml/Common_Content/Program_Listing.xml -> tmp/en-US/xml/Common_Content/Program_Listing.xml
	Processing file tmp/en-US/xml/Common_Content/Revision_History.xml -> tmp/en-US/xml/Common_Content/Revision_History.xml
	Processing file tmp/en-US/xml_tmp/Author_Group.xml -> tmp/en-US/xml/Author_Group.xml
	Processing file tmp/en-US/xml_tmp/Revision_History.xml -> tmp/en-US/xml/Revision_History.xml
	Processing file tmp/en-US/xml_tmp/master.xml -> tmp/en-US/xml/master.xml
Beginning work on en-US
RelaxNG Validation OK
	Starting html-single
	Using XML::LibXSLT on /usr/share/publican/Common_Content/RedHat-Pantheon-db5/xsl/html-single.xsl
	Finished html-single
syaseen@syaseen-mac installing-rhoai % ccutil;ccutilopen
WARNING: The requested image's platform (linux/amd64) does not match the detected host platform (linux/arm64/v8) and no specific platform was requested
Transforming the AsciiDoc content to DocBook XML...
Setting up en-US
	Processing file tmp/en-US/xml/Common_Content/Conventions.xml -> tmp/en-US/xml/Common_Content/Conventions.xml
	Processing file tmp/en-US/xml/Common_Content/Feedback.xml -> tmp/en-US/xml/Common_Content/Feedback.xml
	Processing file tmp/en-US/xml/Common_Content/Legal_Notice.xml -> tmp/en-US/xml/Common_Content/Legal_Notice.xml
	Processing file tmp/en-US/xml/Common_Content/Program_Listing.xml -> tmp/en-US/xml/Common_Content/Program_Listing.xml
	Processing file tmp/en-US/xml/Common_Content/Revision_History.xml -> tmp/en-US/xml/Common_Content/Revision_History.xml
	Processing file tmp/en-US/xml_tmp/Author_Group.xml -> tmp/en-US/xml/Author_Group.xml
	Processing file tmp/en-US/xml_tmp/Revision_History.xml -> tmp/en-US/xml/Revision_History.xml
	Processing file tmp/en-US/xml_tmp/master.xml -> tmp/en-US/xml/master.xml
Beginning work on en-US
RelaxNG Validation OK
	Starting html-single
	Using XML::LibXSLT on /usr/share/publican/Common_Content/RedHat-Pantheon-db5/xsl/html-single.xsl
	Finished html-single
syaseen@syaseen-mac installing-rhoai % ccutil;ccutilopen
syaseen@syaseen-mac installing-rhoai % cd ..
syaseen@syaseen-mac openshift-ai-documentation % vi installing-openshift-data-science-components-using-web-console.adoc      
syaseen@syaseen-mac openshift-ai-documentation % cd modules 
syaseen@syaseen-mac modules % vi installing-openshift-data-science-components-using-web-console.adoc 
syaseen@syaseen-mac modules % cd ..
syaseen@syaseen-mac openshift-ai-documentation % cd installing-rhoai 
syaseen@syaseen-mac installing-rhoai % ccutil;ccutilopen                                                     
WARNING: The requested image's platform (linux/amd64) does not match the detected host platform (linux/arm64/v8) and no specific platform was requested
Transforming the AsciiDoc content to DocBook XML...
Setting up en-US
	Processing file tmp/en-US/xml/Common_Content/Conventions.xml -> tmp/en-US/xml/Common_Content/Conventions.xml
	Processing file tmp/en-US/xml/Common_Content/Feedback.xml -> tmp/en-US/xml/Common_Content/Feedback.xml
	Processing file tmp/en-US/xml/Common_Content/Legal_Notice.xml -> tmp/en-US/xml/Common_Content/Legal_Notice.xml
	Processing file tmp/en-US/xml/Common_Content/Program_Listing.xml -> tmp/en-US/xml/Common_Content/Program_Listing.xml
	Processing file tmp/en-US/xml/Common_Content/Revision_History.xml -> tmp/en-US/xml/Common_Content/Revision_History.xml
	Processing file tmp/en-US/xml_tmp/Author_Group.xml -> tmp/en-US/xml/Author_Group.xml
	Processing file tmp/en-US/xml_tmp/Revision_History.xml -> tmp/en-US/xml/Revision_History.xml
	Processing file tmp/en-US/xml_tmp/master.xml -> tmp/en-US/xml/master.xml
Beginning work on en-US
RelaxNG Validation OK
	Starting html-single
	Using XML::LibXSLT on /usr/share/publican/Common_Content/RedHat-Pantheon-db5/xsl/html-single.xsl
	Finished html-single
syaseen@syaseen-mac installing-rhoai % cd ..
syaseen@syaseen-mac openshift-ai-documentation % vi installing-openshift-data-science-components-using-web-console.adoc
syaseen@syaseen-mac openshift-ai-documentation % cd modules 
syaseen@syaseen-mac modules % vi installing-openshift-data-science-components-using-web-console.adoc
syaseen@syaseen-mac modules % cd ..
syaseen@syaseen-mac openshift-ai-documentation % cd installing-rhoai 
syaseen@syaseen-mac installing-rhoai % ccutil;ccutilopen                                                     
WARNING: The requested image's platform (linux/amd64) does not match the detected host platform (linux/arm64/v8) and no specific platform was requested
Transforming the AsciiDoc content to DocBook XML...
Setting up en-US
	Processing file tmp/en-US/xml/Common_Content/Conventions.xml -> tmp/en-US/xml/Common_Content/Conventions.xml
	Processing file tmp/en-US/xml/Common_Content/Feedback.xml -> tmp/en-US/xml/Common_Content/Feedback.xml
	Processing file tmp/en-US/xml/Common_Content/Legal_Notice.xml -> tmp/en-US/xml/Common_Content/Legal_Notice.xml
	Processing file tmp/en-US/xml/Common_Content/Program_Listing.xml -> tmp/en-US/xml/Common_Content/Program_Listing.xml
	Processing file tmp/en-US/xml/Common_Content/Revision_History.xml -> tmp/en-US/xml/Common_Content/Revision_History.xml
	Processing file tmp/en-US/xml_tmp/Author_Group.xml -> tmp/en-US/xml/Author_Group.xml
	Processing file tmp/en-US/xml_tmp/Revision_History.xml -> tmp/en-US/xml/Revision_History.xml
	Processing file tmp/en-US/xml_tmp/master.xml -> tmp/en-US/xml/master.xml
Beginning work on en-US
RelaxNG Validation OK
	Starting html-single
	Using XML::LibXSLT on /usr/share/publican/Common_Content/RedHat-Pantheon-db5/xsl/html-single.xsl
	Finished html-single
syaseen@syaseen-mac installing-rhoai % cd ..
syaseen@syaseen-mac openshift-ai-documentation % git status
On branch RHOAIENG-1448
Changes not staged for commit:
  (use "git add <file>..." to update what will be committed)
  (use "git restore <file>..." to discard changes in working directory)
	modified:   modules/installing-openshift-data-science-components-using-web-console.adoc

no changes added to commit (use "git add" and/or "git commit -a")
syaseen@syaseen-mac openshift-ai-documentation % cd self-managed-installing-rhoai 
syaseen@syaseen-mac self-managed-installing-rhoai % ccutil;ccutilopen               
WARNING: The requested image's platform (linux/amd64) does not match the detected host platform (linux/arm64/v8) and no specific platform was requested
Transforming the AsciiDoc content to DocBook XML...
Setting up en-US
	Processing file tmp/en-US/xml/Common_Content/Conventions.xml -> tmp/en-US/xml/Common_Content/Conventions.xml
	Processing file tmp/en-US/xml/Common_Content/Feedback.xml -> tmp/en-US/xml/Common_Content/Feedback.xml
	Processing file tmp/en-US/xml/Common_Content/Legal_Notice.xml -> tmp/en-US/xml/Common_Content/Legal_Notice.xml
	Processing file tmp/en-US/xml/Common_Content/Program_Listing.xml -> tmp/en-US/xml/Common_Content/Program_Listing.xml
	Processing file tmp/en-US/xml/Common_Content/Revision_History.xml -> tmp/en-US/xml/Common_Content/Revision_History.xml
	Processing file tmp/en-US/xml_tmp/Author_Group.xml -> tmp/en-US/xml/Author_Group.xml
	Processing file tmp/en-US/xml_tmp/Revision_History.xml -> tmp/en-US/xml/Revision_History.xml
	Processing file tmp/en-US/xml_tmp/master.xml -> tmp/en-US/xml/master.xml
Beginning work on en-US
RelaxNG Validation OK
	Starting html-single
	Using XML::LibXSLT on /usr/share/publican/Common_Content/RedHat-Pantheon-db5/xsl/html-single.xsl
	Finished html-single
syaseen@syaseen-mac self-managed-installing-rhoai % git status
On branch RHOAIENG-1448
Changes not staged for commit:
  (use "git add <file>..." to update what will be committed)
  (use "git restore <file>..." to discard changes in working directory)
	modified:   ../modules/installing-openshift-data-science-components-using-web-console.adoc

no changes added to commit (use "git add" and/or "git commit -a")
syaseen@syaseen-mac self-managed-installing-rhoai % git branch   
  RHOAIENG-1286
  RHOAIENG-1294
  RHOAIENG-1440
* RHOAIENG-1448
  RHOAIENG-1450
  RHOAIENG-1466
  RHOAIENG-1540
  RHOAIENG-1914
  RHOAIENG-1916
  RHOAIENG-1917
  RHOAIENG-2134
  RHOAIENG-2670
  RHOAIENG-2828
  RHOAIENG-649
  RHOAIENG-666
  RHOAIENG-973
  RHODS-12921
  RHODS-13009
  RHODS-13014
  RHODS-13068
  RHODS-13077
  RHODS-13082
  main
  openshift-ai-documentation-RHODS-12921
syaseen@syaseen-mac self-managed-installing-rhoai % git add --all
syaseen@syaseen-mac self-managed-installing-rhoai % git commit -m "addressing peer review comments"
[RHOAIENG-1448 0786abc1c] addressing peer review comments
 1 file changed, 5 insertions(+), 14 deletions(-)
syaseen@syaseen-mac self-managed-installing-rhoai % git fetch -all
error: did you mean `--all` (with two dashes)?
syaseen@syaseen-mac self-managed-installing-rhoai % git fetch --all
Fetching origin
Enter passphrase for key '/Users/syaseen/.ssh/id_rsa': 
Fetching upstream
Enter passphrase for key '/Users/syaseen/.ssh/id_rsa': 
remote: Enumerating objects: 213, done.
remote: Counting objects: 100% (213/213), done.
remote: Compressing objects: 100% (155/155), done.
remote: Total 213 (delta 132), reused 93 (delta 58), pack-reused 0
Receiving objects: 100% (213/213), 204.72 KiB | 3.86 MiB/s, done.
Resolving deltas: 100% (132/132), completed with 19 local objects.
From gitlab.cee.redhat.com:documentation-red-hat-openshift-data-science-documentation/openshift-ai-documentation
   93fba92a4..f1aa1ea9f  CLX3-Red_Hat_OpenShift_AI_Self-Managed-2-latest-Installing_and_uninstalling_OpenShift_AI_Self-Managed -> upstream/CLX3-Red_Hat_OpenShift_AI_Self-Managed-2-latest-Installing_and_uninstalling_OpenShift_AI_Self-Managed
   7bbbe54e9..0ba016929  CLX3-Red_Hat_OpenShift_AI_Self-Managed-2-latest-Installing_and_uninstalling_OpenShift_AI_Self-Managed_in_a_disconnected_environment -> upstream/CLX3-Red_Hat_OpenShift_AI_Self-Managed-2-latest-Installing_and_uninstalling_OpenShift_AI_Self-Managed_in_a_disconnected_environment
   acde25c25..ae547de9b  CLX3-Red_Hat_OpenShift_AI_Self-Managed-2-latest-Release_notes                                         -> upstream/CLX3-Red_Hat_OpenShift_AI_Self-Managed-2-latest-Release_notes
   e5ea91799..0d07bb63e  CLX3-Red_Hat_OpenShift_AI_Self-Managed-2.5-Installing_and_uninstalling_OpenShift_AI_Self-Managed      -> upstream/CLX3-Red_Hat_OpenShift_AI_Self-Managed-2.5-Installing_and_uninstalling_OpenShift_AI_Self-Managed
   2b7b72759..a698323b4  CLX3-Red_Hat_OpenShift_AI_Self-Managed-2.5-Installing_and_uninstalling_OpenShift_AI_Self-Managed_in_a_disconnected_environment -> upstream/CLX3-Red_Hat_OpenShift_AI_Self-Managed-2.5-Installing_and_uninstalling_OpenShift_AI_Self-Managed_in_a_disconnected_environment
   c47e0f798..ee45566b3  CLX3-Red_Hat_OpenShift_AI_Self-Managed-2.5-Release_notes                                              -> upstream/CLX3-Red_Hat_OpenShift_AI_Self-Managed-2.5-Release_notes
   49a98f1f9..76984cdf5  main                                                                                                  -> upstream/main
   fdd80a9b0..7c0f17803  stage-2-latest                                                                                        -> upstream/stage-2-latest
   729e243f1..c3667c5be  stage-2.5                                                                                             -> upstream/stage-2.5
   95f46843b..058404312  stage-2.6                                                                                             -> upstream/stage-2.6
syaseen@syaseen-mac self-managed-installing-rhoai % git rebase upstream/main
Successfully rebased and updated refs/heads/RHOAIENG-1448.
syaseen@syaseen-mac self-managed-installing-rhoai % git push -f origin HEAD
Enter passphrase for key '/Users/syaseen/.ssh/id_rsa': 
Enumerating objects: 22, done.
Counting objects: 100% (22/22), done.
Delta compression using up to 10 threads
Compressing objects: 100% (10/10), done.
Writing objects: 100% (15/15), 1.95 KiB | 1.95 MiB/s, done.
Total 15 (delta 11), reused 7 (delta 5), pack-reused 0
remote: 
remote: View merge request for RHOAIENG-1448:
remote:   https://gitlab.cee.redhat.com/documentation-red-hat-openshift-data-science-documentation/openshift-ai-documentation/-/merge_requests/365
remote: 
To gitlab.cee.redhat.com:syaseen/openshift-ai-documentation.git
 + 6ed7574f8...260fee21e HEAD -> RHOAIENG-1448 (forced update)
syaseen@syaseen-mac self-managed-installing-rhoai % vi installing-openshift-data-science-components-using-web-console.adoc
syaseen@syaseen-mac self-managed-installing-rhoai % vi modules/installing-openshift-data-science-components-using-web-console.adoc
syaseen@syaseen-mac self-managed-installing-rhoai % cd ..     
syaseen@syaseen-mac openshift-ai-documentation % git status
On branch RHOAIENG-1448
Changes not staged for commit:
  (use "git add <file>..." to update what will be committed)
  (use "git restore <file>..." to discard changes in working directory)
	modified:   modules/installing-openshift-data-science-components-using-web-console.adoc

no changes added to commit (use "git add" and/or "git commit -a")
syaseen@syaseen-mac openshift-ai-documentation % cd installing-rhoai 
syaseen@syaseen-mac installing-rhoai % ccutil;ccutilopen
WARNING: The requested image's platform (linux/amd64) does not match the detected host platform (linux/arm64/v8) and no specific platform was requested
Transforming the AsciiDoc content to DocBook XML...
Setting up en-US
	Processing file tmp/en-US/xml/Common_Content/Conventions.xml -> tmp/en-US/xml/Common_Content/Conventions.xml
	Processing file tmp/en-US/xml/Common_Content/Feedback.xml -> tmp/en-US/xml/Common_Content/Feedback.xml
	Processing file tmp/en-US/xml/Common_Content/Legal_Notice.xml -> tmp/en-US/xml/Common_Content/Legal_Notice.xml
	Processing file tmp/en-US/xml/Common_Content/Program_Listing.xml -> tmp/en-US/xml/Common_Content/Program_Listing.xml
	Processing file tmp/en-US/xml/Common_Content/Revision_History.xml -> tmp/en-US/xml/Common_Content/Revision_History.xml
	Processing file tmp/en-US/xml_tmp/Author_Group.xml -> tmp/en-US/xml/Author_Group.xml
	Processing file tmp/en-US/xml_tmp/Revision_History.xml -> tmp/en-US/xml/Revision_History.xml
	Processing file tmp/en-US/xml_tmp/master.xml -> tmp/en-US/xml/master.xml
Beginning work on en-US
RelaxNG Validation OK
	Starting html-single
	Using XML::LibXSLT on /usr/share/publican/Common_Content/RedHat-Pantheon-db5/xsl/html-single.xsl
	Finished html-single
syaseen@syaseen-mac installing-rhoai % ccutil;ccutilopen
WARNING: The requested image's platform (linux/amd64) does not match the detected host platform (linux/arm64/v8) and no specific platform was requested
Transforming the AsciiDoc content to DocBook XML...
Setting up en-US
	Processing file tmp/en-US/xml/Common_Content/Conventions.xml -> tmp/en-US/xml/Common_Content/Conventions.xml
	Processing file tmp/en-US/xml/Common_Content/Feedback.xml -> tmp/en-US/xml/Common_Content/Feedback.xml
	Processing file tmp/en-US/xml/Common_Content/Legal_Notice.xml -> tmp/en-US/xml/Common_Content/Legal_Notice.xml
	Processing file tmp/en-US/xml/Common_Content/Program_Listing.xml -> tmp/en-US/xml/Common_Content/Program_Listing.xml
	Processing file tmp/en-US/xml/Common_Content/Revision_History.xml -> tmp/en-US/xml/Common_Content/Revision_History.xml
	Processing file tmp/en-US/xml_tmp/Author_Group.xml -> tmp/en-US/xml/Author_Group.xml
	Processing file tmp/en-US/xml_tmp/Revision_History.xml -> tmp/en-US/xml/Revision_History.xml
	Processing file tmp/en-US/xml_tmp/master.xml -> tmp/en-US/xml/master.xml
Beginning work on en-US
RelaxNG Validation OK
	Starting html-single
	Using XML::LibXSLT on /usr/share/publican/Common_Content/RedHat-Pantheon-db5/xsl/html-single.xsl
	Finished html-single
syaseen@syaseen-mac installing-rhoai % cd ..
syaseen@syaseen-mac openshift-ai-documentation % vi modules/installing-openshift-data-science-components-using-web-console.adoc
syaseen@syaseen-mac openshift-ai-documentation % cd ..
syaseen@syaseen-mac ~ % cd openshift-ai-documentation 
syaseen@syaseen-mac openshift-ai-documentation % cd modules 
syaseen@syaseen-mac modules % cd ..         
syaseen@syaseen-mac openshift-ai-documentation % cd installing-rhoai 
syaseen@syaseen-mac installing-rhoai % ccutil;ccutilopen                                                             
WARNING: The requested image's platform (linux/amd64) does not match the detected host platform (linux/arm64/v8) and no specific platform was requested
Transforming the AsciiDoc content to DocBook XML...
Setting up en-US
	Processing file tmp/en-US/xml/Common_Content/Conventions.xml -> tmp/en-US/xml/Common_Content/Conventions.xml
	Processing file tmp/en-US/xml/Common_Content/Feedback.xml -> tmp/en-US/xml/Common_Content/Feedback.xml
	Processing file tmp/en-US/xml/Common_Content/Legal_Notice.xml -> tmp/en-US/xml/Common_Content/Legal_Notice.xml
	Processing file tmp/en-US/xml/Common_Content/Program_Listing.xml -> tmp/en-US/xml/Common_Content/Program_Listing.xml
	Processing file tmp/en-US/xml/Common_Content/Revision_History.xml -> tmp/en-US/xml/Common_Content/Revision_History.xml
	Processing file tmp/en-US/xml_tmp/Author_Group.xml -> tmp/en-US/xml/Author_Group.xml
	Processing file tmp/en-US/xml_tmp/Revision_History.xml -> tmp/en-US/xml/Revision_History.xml
	Processing file tmp/en-US/xml_tmp/master.xml -> tmp/en-US/xml/master.xml
Beginning work on en-US
RelaxNG Validation OK
	Starting html-single
	Using XML::LibXSLT on /usr/share/publican/Common_Content/RedHat-Pantheon-db5/xsl/html-single.xsl
	Finished html-single
syaseen@syaseen-mac installing-rhoai % git status
On branch RHOAIENG-1448
nothing to commit, working tree clean
syaseen@syaseen-mac installing-rhoai % git checkout main
Switched to branch 'main'
Your branch is up to date with 'origin/main'.
syaseen@syaseen-mac installing-rhoai % vi modules/installing-openshift-data-science-components-using-web-console.adoc 
syaseen@syaseen-mac installing-rhoai % git checkout RHOAIENG-1448
Switched to branch 'RHOAIENG-1448'
syaseen@syaseen-mac installing-rhoai % ls
_artifacts		assemblies		build			images			master-docinfo.xml	master.adoc		modules			snippets		upstream-modules
syaseen@syaseen-mac installing-rhoai % vi modules/installing-openshift-data-science-components-using-web-console.adoc 
syaseen@syaseen-mac installing-rhoai % ccutil;ccutilopen
WARNING: The requested image's platform (linux/amd64) does not match the detected host platform (linux/arm64/v8) and no specific platform was requested
Transforming the AsciiDoc content to DocBook XML...
Setting up en-US
	Processing file tmp/en-US/xml/Common_Content/Conventions.xml -> tmp/en-US/xml/Common_Content/Conventions.xml
	Processing file tmp/en-US/xml/Common_Content/Feedback.xml -> tmp/en-US/xml/Common_Content/Feedback.xml
	Processing file tmp/en-US/xml/Common_Content/Legal_Notice.xml -> tmp/en-US/xml/Common_Content/Legal_Notice.xml
	Processing file tmp/en-US/xml/Common_Content/Program_Listing.xml -> tmp/en-US/xml/Common_Content/Program_Listing.xml
	Processing file tmp/en-US/xml/Common_Content/Revision_History.xml -> tmp/en-US/xml/Common_Content/Revision_History.xml
	Processing file tmp/en-US/xml_tmp/Author_Group.xml -> tmp/en-US/xml/Author_Group.xml
	Processing file tmp/en-US/xml_tmp/Revision_History.xml -> tmp/en-US/xml/Revision_History.xml
	Processing file tmp/en-US/xml_tmp/master.xml -> tmp/en-US/xml/master.xml
Beginning work on en-US
RelaxNG Validation OK
	Starting html-single
	Using XML::LibXSLT on /usr/share/publican/Common_Content/RedHat-Pantheon-db5/xsl/html-single.xsl
	Finished html-single
syaseen@syaseen-mac installing-rhoai % vi modules/installing-openshift-data-science-components-using-web-console.adoc
syaseen@syaseen-mac installing-rhoai % ccutil;ccutilopen                                                             
WARNING: The requested image's platform (linux/amd64) does not match the detected host platform (linux/arm64/v8) and no specific platform was requested
Transforming the AsciiDoc content to DocBook XML...
Setting up en-US
	Processing file tmp/en-US/xml/Common_Content/Conventions.xml -> tmp/en-US/xml/Common_Content/Conventions.xml
	Processing file tmp/en-US/xml/Common_Content/Feedback.xml -> tmp/en-US/xml/Common_Content/Feedback.xml
	Processing file tmp/en-US/xml/Common_Content/Legal_Notice.xml -> tmp/en-US/xml/Common_Content/Legal_Notice.xml
	Processing file tmp/en-US/xml/Common_Content/Program_Listing.xml -> tmp/en-US/xml/Common_Content/Program_Listing.xml
	Processing file tmp/en-US/xml/Common_Content/Revision_History.xml -> tmp/en-US/xml/Common_Content/Revision_History.xml
	Processing file tmp/en-US/xml_tmp/Author_Group.xml -> tmp/en-US/xml/Author_Group.xml
	Processing file tmp/en-US/xml_tmp/Revision_History.xml -> tmp/en-US/xml/Revision_History.xml
	Processing file tmp/en-US/xml_tmp/master.xml -> tmp/en-US/xml/master.xml
Beginning work on en-US
RelaxNG Validation OK
	Starting html-single
	Using XML::LibXSLT on /usr/share/publican/Common_Content/RedHat-Pantheon-db5/xsl/html-single.xsl
	Finished html-single
syaseen@syaseen-mac installing-rhoai % cd ..
syaseen@syaseen-mac openshift-ai-documentation % cd self-managed-installing-rhoai 
syaseen@syaseen-mac self-managed-installing-rhoai % ccutil;ccutilopen               
WARNING: The requested image's platform (linux/amd64) does not match the detected host platform (linux/arm64/v8) and no specific platform was requested
Transforming the AsciiDoc content to DocBook XML...
Setting up en-US
	Processing file tmp/en-US/xml/Common_Content/Conventions.xml -> tmp/en-US/xml/Common_Content/Conventions.xml
	Processing file tmp/en-US/xml/Common_Content/Feedback.xml -> tmp/en-US/xml/Common_Content/Feedback.xml
	Processing file tmp/en-US/xml/Common_Content/Legal_Notice.xml -> tmp/en-US/xml/Common_Content/Legal_Notice.xml
	Processing file tmp/en-US/xml/Common_Content/Program_Listing.xml -> tmp/en-US/xml/Common_Content/Program_Listing.xml
	Processing file tmp/en-US/xml/Common_Content/Revision_History.xml -> tmp/en-US/xml/Common_Content/Revision_History.xml
	Processing file tmp/en-US/xml_tmp/Author_Group.xml -> tmp/en-US/xml/Author_Group.xml
	Processing file tmp/en-US/xml_tmp/Revision_History.xml -> tmp/en-US/xml/Revision_History.xml
	Processing file tmp/en-US/xml_tmp/master.xml -> tmp/en-US/xml/master.xml
Beginning work on en-US
RelaxNG Validation OK
	Starting html-single
	Using XML::LibXSLT on /usr/share/publican/Common_Content/RedHat-Pantheon-db5/xsl/html-single.xsl
	Finished html-single
syaseen@syaseen-mac self-managed-installing-rhoai % cd self-managed-installing-rhoai
syaseen@syaseen-mac self-managed-installing-rhoai % git status
On branch RHOAIENG-1448
Changes not staged for commit:
  (use "git add <file>..." to update what will be committed)
  (use "git restore <file>..." to discard changes in working directory)
	modified:   ../modules/installing-openshift-data-science-components-using-web-console.adoc

no changes added to commit (use "git add" and/or "git commit -a")
syaseen@syaseen-mac self-managed-installing-rhoai % git branch
  RHOAIENG-1286
  RHOAIENG-1294
  RHOAIENG-1440
* RHOAIENG-1448
  RHOAIENG-1450
  RHOAIENG-1466
  RHOAIENG-1540
  RHOAIENG-1914
  RHOAIENG-1916
  RHOAIENG-1917
  RHOAIENG-2134
  RHOAIENG-2670
  RHOAIENG-2828
  RHOAIENG-649
  RHOAIENG-666
  RHOAIENG-973
  RHODS-12921
  RHODS-13009
  RHODS-13014
  RHODS-13068
  RHODS-13077
  RHODS-13082
  main
  openshift-ai-documentation-RHODS-12921
syaseen@syaseen-mac self-managed-installing-rhoai % git diff modules/installing-openshift-data-science-components-using-web-console.adoc 
syaseen@syaseen-mac self-managed-installing-rhoai % git status
On branch RHOAIENG-1448
Changes not staged for commit:
  (use "git add <file>..." to update what will be committed)
  (use "git restore <file>..." to discard changes in working directory)
	modified:   ../modules/installing-openshift-data-science-components-using-web-console.adoc

no changes added to commit (use "git add" and/or "git commit -a")
syaseen@syaseen-mac self-managed-installing-rhoai % cd ..
syaseen@syaseen-mac openshift-ai-documentation % git diff modules/installing-openshift-data-science-components-using-web-console.adoc 
diff --git a/modules/installing-openshift-data-science-components-using-web-console.adoc b/modules/installing-openshift-data-science-components-using-web-console.adoc
index 962d91cca..ea39dae0c 100644
--- a/modules/installing-openshift-data-science-components-using-web-console.adoc
+++ b/modules/installing-openshift-data-science-components-using-web-console.adoc
@@ -77,6 +77,7 @@ ifdef::cloud-service[]
 endif::[]
 +
 An embedded YAML editor opens showing a default custom resource (CR) for the `DataScienceCluster` object.
++
 .. In the `spec.components` section of the CR, for each {productname-short} component shown, set the value of the `managementState` field to either `Managed` or `Removed`. These values are defined as follows:
 +
 --
syaseen@syaseen-mac openshift-ai-documentation % git diff modules/installing-openshift-data-science-components-using-web-console.adoc
syaseen@syaseen-mac openshift-ai-documentation % vi modules/installing-openshift-data-science-components-using-web-console.adoc
syaseen@syaseen-mac openshift-ai-documentation % git status
On branch RHOAIENG-1448
Changes not staged for commit:
  (use "git add <file>..." to update what will be committed)
  (use "git restore <file>..." to discard changes in working directory)
	modified:   modules/installing-openshift-data-science-components-using-web-console.adoc

no changes added to commit (use "git add" and/or "git commit -a")
syaseen@syaseen-mac openshift-ai-documentation % git add --all
syaseen@syaseen-mac openshift-ai-documentation % git commit -m "fixing minor syntax issue"
[RHOAIENG-1448 7999ebd9b] fixing minor syntax issue
 1 file changed, 1 insertion(+)
syaseen@syaseen-mac openshift-ai-documentation % git fetch --all
Fetching origin
Enter passphrase for key '/Users/syaseen/.ssh/id_rsa': 
Fetching upstream
Enter passphrase for key '/Users/syaseen/.ssh/id_rsa': 
syaseen@syaseen-mac openshift-ai-documentation % git rebase upstream/main
Current branch RHOAIENG-1448 is up to date.
syaseen@syaseen-mac openshift-ai-documentation % git push -f origin HEAD
Enter passphrase for key '/Users/syaseen/.ssh/id_rsa': 
Enumerating objects: 7, done.
Counting objects: 100% (7/7), done.
Delta compression using up to 10 threads
Compressing objects: 100% (4/4), done.
Writing objects: 100% (4/4), 367 bytes | 367.00 KiB/s, done.
Total 4 (delta 3), reused 0 (delta 0), pack-reused 0
remote: 
remote: View merge request for RHOAIENG-1448:
remote:   https://gitlab.cee.redhat.com/documentation-red-hat-openshift-data-science-documentation/openshift-ai-documentation/-/merge_requests/365
remote: 
To gitlab.cee.redhat.com:syaseen/openshift-ai-documentation.git
   260fee21e..7999ebd9b  HEAD -> RHOAIENG-1448
syaseen@syaseen-mac openshift-ai-documentation % cd installing-rhoai 
syaseen@syaseen-mac installing-rhoai % ccutil;ccutilopen                                                                   
WARNING: The requested image's platform (linux/amd64) does not match the detected host platform (linux/arm64/v8) and no specific platform was requested
Transforming the AsciiDoc content to DocBook XML...
Setting up en-US
	Processing file tmp/en-US/xml/Common_Content/Conventions.xml -> tmp/en-US/xml/Common_Content/Conventions.xml
	Processing file tmp/en-US/xml/Common_Content/Feedback.xml -> tmp/en-US/xml/Common_Content/Feedback.xml
	Processing file tmp/en-US/xml/Common_Content/Legal_Notice.xml -> tmp/en-US/xml/Common_Content/Legal_Notice.xml
	Processing file tmp/en-US/xml/Common_Content/Program_Listing.xml -> tmp/en-US/xml/Common_Content/Program_Listing.xml
	Processing file tmp/en-US/xml/Common_Content/Revision_History.xml -> tmp/en-US/xml/Common_Content/Revision_History.xml
	Processing file tmp/en-US/xml_tmp/Author_Group.xml -> tmp/en-US/xml/Author_Group.xml
	Processing file tmp/en-US/xml_tmp/Revision_History.xml -> tmp/en-US/xml/Revision_History.xml
	Processing file tmp/en-US/xml_tmp/master.xml -> tmp/en-US/xml/master.xml
Beginning work on en-US
RelaxNG Validation OK
	Starting html-single
	Using XML::LibXSLT on /usr/share/publican/Common_Content/RedHat-Pantheon-db5/xsl/html-single.xsl
	Finished html-single
syaseen@syaseen-mac installing-rhoai % ls 
_artifacts		assemblies		build			images			master-docinfo.xml	master.adoc		modules			snippets		upstream-modules
syaseen@syaseen-mac installing-rhoai % cd ..  
syaseen@syaseen-mac openshift-ai-documentation % vi modules/installing-openshift-data-science-components-using-web-console.adoc      
syaseen@syaseen-mac openshift-ai-documentation % git status
On branch RHOAIENG-1448
nothing to commit, working tree clean
syaseen@syaseen-mac openshift-ai-documentation % git checkout RHOAIENG-1440
Switched to branch 'RHOAIENG-1440'
syaseen@syaseen-mac openshift-ai-documentation % vi modules/overview-of-openshift-ai.adoc
syaseen@syaseen-mac openshift-ai-documentation % git diff modules/overview-of-openshift-ai.adoc 
diff --git a/modules/overview-of-openshift-ai.adoc b/modules/overview-of-openshift-ai.adoc
index fba60d4c4..a8ac1166a 100644
--- a/modules/overview-of-openshift-ai.adoc
+++ b/modules/overview-of-openshift-ai.adoc
@@ -4,7 +4,7 @@
 = Overview of {productname-short}
 
 [role='_abstract']
-{productname-long} is an MLOps platform for data scientists and developers to build, deploy and manage AI/ML models and applications. It provides a fully supported environment to develop, train, serve, test, and monitor machine learning models on-premises or in the public cloud.
+{productname-long} is an MLOps platform for data scientists and developers to build, deploy and manage AI/ML models and applications. It provides an environment to develop, train, serve, test, and monitor machine learning models on-premises or in the cloud.
 
 For data scientists, {productname-short} includes Jupyter and a collection of default notebook images optimized with the tools and libraries required for model development, and the TensorFlow and PyTorch frameworks. Deploy and host your mosyaseen@syaseen-mac openshift-ai-documentation % git status
On branch RHOAIENG-1440
Changes not staged for commit:
  (use "git add <file>..." to update what will be committed)
  (use "git restore <file>..." to discard changes in working directory)
	modified:   modules/overview-of-openshift-ai.adoc

no changes added to commit (use "git add" and/or "git commit -a")
syaseen@syaseen-mac openshift-ai-documentation % git add modules/overview-of-openshift-ai.adoc
syaseen@syaseen-mac openshift-ai-documentation % git commit -m "addressing review comment"
[RHOAIENG-1440 a66df9c2b] addressing review comment
 1 file changed, 1 insertion(+), 1 deletion(-)
syaseen@syaseen-mac openshift-ai-documentation % git fetch --all
Fetching origin
Enter passphrase for key '/Users/syaseen/.ssh/id_rsa': 
Fetching upstream
Enter passphrase for key '/Users/syaseen/.ssh/id_rsa': 
syaseen@syaseen-mac openshift-ai-documentation % git rebase upstream/main
Successfully rebased and updated refs/heads/RHOAIENG-1440.
syaseen@syaseen-mac openshift-ai-documentation % git push -f origin HEAD
Enter passphrase for key '/Users/syaseen/.ssh/id_rsa': 
Enumerating objects: 15, done.
Counting objects: 100% (15/15), done.
Delta compression using up to 10 threads
Compressing objects: 100% (12/12), done.
Writing objects: 100% (12/12), 1.21 KiB | 1.21 MiB/s, done.
Total 12 (delta 9), reused 0 (delta 0), pack-reused 0
remote: 
remote: View merge request for RHOAIENG-1440:
remote:   https://gitlab.cee.redhat.com/documentation-red-hat-openshift-data-science-documentation/openshift-ai-documentation/-/merge_requests/361
remote: 
To gitlab.cee.redhat.com:syaseen/openshift-ai-documentation.git
 + 6e5863135...7aa40fd14 HEAD -> RHOAIENG-1440 (forced update)
syaseen@syaseen-mac openshift-ai-documentation % git branch
  RHOAIENG-1286
  RHOAIENG-1294
* RHOAIENG-1440
  RHOAIENG-1448
  RHOAIENG-1450
  RHOAIENG-1466
  RHOAIENG-1540
  RHOAIENG-1914
  RHOAIENG-1916
  RHOAIENG-1917
  RHOAIENG-2134
  RHOAIENG-2670
  RHOAIENG-2828
  RHOAIENG-649
  RHOAIENG-666
  RHOAIENG-973
  RHODS-12921
  RHODS-13009
  RHODS-13014
  RHODS-13068
  RHODS-13077
  RHODS-13082
  main
  openshift-ai-documentation-RHODS-12921
syaseen@syaseen-mac openshift-ai-documentation % git checkout 
syaseen@syaseen-mac openshift-ai-documentation % vi modules/accessing-
syaseen@syaseen-mac openshift-ai-documentation % vi modules/accessing-
syaseen@syaseen-mac openshift-ai-documentation % vi _artifacts/document-attributes-global.adoc 
syaseen@syaseen-mac openshift-ai-documentation % git branch
  RHOAIENG-1286
  RHOAIENG-1294
* RHOAIENG-1440
  RHOAIENG-1448
  RHOAIENG-1450
  RHOAIENG-1466
  RHOAIENG-1540
  RHOAIENG-1914
  RHOAIENG-1916
  RHOAIENG-1917
  RHOAIENG-2134
  RHOAIENG-2670
  RHOAIENG-2828
  RHOAIENG-649
  RHOAIENG-666
  RHOAIENG-973
  RHODS-12921
  RHODS-13009
  RHODS-13014
  RHODS-13068
  RHODS-13077
:






















  RHOAIENG-1286
  RHOAIENG-1294
* RHOAIENG-1440
  RHOAIENG-1448
  RHOAIENG-1450
  RHOAIENG-1466
  RHOAIENG-1540
  RHOAIENG-1914
  RHOAIENG-1916
  RHOAIENG-1917
  RHOAIENG-2134
  RHOAIENG-2670
  RHOAIENG-2828
  RHOAIENG-649
  RHOAIENG-666
  RHOAIENG-973
  RHODS-12921
  RHODS-13009
  RHODS-13014
  RHODS-13068
  RHODS-13077
:






















  RHOAIENG-1286
  RHOAIENG-1294
* RHOAIENG-1440
  RHOAIENG-1448
  RHOAIENG-1450
  RHOAIENG-1466
  RHOAIENG-1540
  RHOAIENG-1914
  RHOAIENG-1916
  RHOAIENG-1917
  RHOAIENG-2134
  RHOAIENG-2670
  RHOAIENG-2828
  RHOAIENG-649
  RHOAIENG-666
  RHOAIENG-973
  RHODS-12921
  RHODS-13009
  RHODS-13014
  RHODS-13068
  RHODS-13077
:...skipping...
  RHOAIENG-1286
  RHOAIENG-1294
* RHOAIENG-1440
  RHOAIENG-1448
  RHOAIENG-1450
  RHOAIENG-1466
  RHOAIENG-1540
  RHOAIENG-1914
  RHOAIENG-1916
  RHOAIENG-1917
  RHOAIENG-2134
  RHOAIENG-2670
  RHOAIENG-2828
  RHOAIENG-649
  RHOAIENG-666
  RHOAIENG-973
  RHODS-12921
  RHODS-13009
  RHODS-13014
  RHODS-13068
  RHODS-13077
  RHODS-13082
:























  RHOAIENG-1286
  RHOAIENG-1294
* RHOAIENG-1440
  RHOAIENG-1448
  RHOAIENG-1450
  RHOAIENG-1466
  RHOAIENG-1540
  RHOAIENG-1914
  RHOAIENG-1916
  RHOAIENG-1917
  RHOAIENG-2134
  RHOAIENG-2670
  RHOAIENG-2828
  RHOAIENG-649
  RHOAIENG-666
  RHOAIENG-973
  RHODS-12921
  RHODS-13009
  RHODS-13014
  RHODS-13068
  RHODS-13077
  RHODS-13082
:...skipping...
  RHOAIENG-1286
  RHOAIENG-1294
* RHOAIENG-1440
  RHOAIENG-1448
  RHOAIENG-1450
  RHOAIENG-1466
  RHOAIENG-1540
  RHOAIENG-1914
  RHOAIENG-1916
  RHOAIENG-1917
  RHOAIENG-2134
  RHOAIENG-2670
  RHOAIENG-2828
  RHOAIENG-649
  RHOAIENG-666
  RHOAIENG-973
  RHODS-12921
  RHODS-13009
  RHODS-13014
  RHODS-13068
  RHODS-13077
  RHODS-13082
  main
:...skipping...
  RHOAIENG-1286
  RHOAIENG-1294
* RHOAIENG-1440
  RHOAIENG-1448
  RHOAIENG-1450
  RHOAIENG-1466
  RHOAIENG-1540
  RHOAIENG-1914
  RHOAIENG-1916
  RHOAIENG-1917
  RHOAIENG-2134
  RHOAIENG-2670
  RHOAIENG-2828
  RHOAIENG-649
  RHOAIENG-666
  RHOAIENG-973
  RHODS-12921
  RHODS-13009
  RHODS-13014
  RHODS-13068
  RHODS-13077
  RHODS-13082
  main
  openshift-ai-documentation-RHODS-12921
:...skipping...
  RHOAIENG-1286
  RHOAIENG-1294
* RHOAIENG-1440
  RHOAIENG-1448
  RHOAIENG-1450
  RHOAIENG-1466
  RHOAIENG-1540
  RHOAIENG-1914
  RHOAIENG-1916
  RHOAIENG-1917
  RHOAIENG-2134
  RHOAIENG-2670
  RHOAIENG-2828
  RHOAIENG-649
  RHOAIENG-666
  RHOAIENG-973
  RHODS-12921
  RHODS-13009
  RHODS-13014
  RHODS-13068
  RHODS-13077
  RHODS-13082
  main
  openshift-ai-documentation-RHODS-12921
~
syaseen@syaseen-mac openshift-ai-documentation % git status      
On branch RHOAIENG-1440
Changes not staged for commit:
  (use "git add <file>..." to update what will be committed)
  (use "git restore <file>..." to discard changes in working directory)
	modified:   upstream/opendatahub-documentation-main/modules/accessing-api-endpoints-for-models-deployed-on-single-model-server.adoc

no changes added to commit (use "git add" and/or "git commit -a")
syaseen@syaseen-mac openshift-ai-documentation % git restore upstream/opendatahub-documentation-main/modules/accessing-api-endpoints-for-models-deployed-on-single-model-server.adoc
syaseen@syaseen-mac openshift-ai-documentation % git branch
  RHOAIENG-1286
  RHOAIENG-1294
* RHOAIENG-1440
  RHOAIENG-1448
  RHOAIENG-1450
  RHOAIENG-1466
  RHOAIENG-1540
  RHOAIENG-1914
  RHOAIENG-1916
  RHOAIENG-1917
  RHOAIENG-2134
  RHOAIENG-2670
  RHOAIENG-2828
  RHOAIENG-649
  RHOAIENG-666
  RHOAIENG-973
  RHODS-12921
  RHODS-13009
  RHODS-13014
  RHODS-13068
  RHODS-13077
  RHODS-13082
  main
  openshift-ai-documentation-RHODS-12921
syaseen@syaseen-mac openshift-ai-documentation % git checkout main
Switched to branch 'main'
Your branch is up to date with 'origin/main'.
syaseen@syaseen-mac openshift-ai-documentation % git fetch --all
Fetching origin
Enter passphrase for key '/Users/syaseen/.ssh/id_rsa': 
Fetching upstream
Enter passphrase for key '/Users/syaseen/.ssh/id_rsa': 
remote: Enumerating objects: 38, done.
remote: Counting objects: 100% (38/38), done.
remote: Compressing objects: 100% (16/16), done.
remote: Total 28 (delta 19), reused 18 (delta 12), pack-reused 0
Unpacking objects: 100% (28/28), 8.92 KiB | 365.00 KiB/s, done.
From gitlab.cee.redhat.com:documentation-red-hat-openshift-data-science-documentation/openshift-ai-documentation
   76984cdf5..9ccb54a8e  main       -> upstream/main
syaseen@syaseen-mac openshift-ai-documentation % git rebase upstream/main
Successfully rebased and updated refs/heads/main.
syaseen@syaseen-mac openshift-ai-documentation % git push origin main
Enter passphrase for key '/Users/syaseen/.ssh/id_rsa': 
Enumerating objects: 38, done.
Counting objects: 100% (38/38), done.
Delta compression using up to 10 threads
Compressing objects: 100% (28/28), done.
Writing objects: 100% (28/28), 8.05 KiB | 8.05 MiB/s, done.
Total 28 (delta 20), reused 0 (delta 0), pack-reused 0
To gitlab.cee.redhat.com:syaseen/openshift-ai-documentation.git
   ba33f00cf..9ccb54a8e  main -> main
syaseen@syaseen-mac openshift-ai-documentation % git checkout -b RHOAIENG-3379
Switched to a new branch 'RHOAIENG-3379'
syaseen@syaseen-mac openshift-ai-documentation % cd upstream 
syaseen@syaseen-mac upstream % ./fetch-upstream.sh 
info: fetching upstream content from open data hub: main

  % Total    % Received % Xferd  Average Speed   Time    Time     Time  Current
                                 Dload  Upload   Total   Spent    Left  Speed
  0     0    0     0    0     0      0      0 --:--:-- --:--:-- --:--:--     0
100  447k    0  447k    0     0   634k      0 --:--:-- --:--:-- --:--:-- 2261k
info: completed fetching content from open data hub: main

syaseen@syaseen-mac upstream % git status
On branch RHOAIENG-3379
Untracked files:
  (use "git add <file>..." to include in what will be committed)
	opendatahub-documentation-main/modules/accessing-inference-endpoints-for-models-deployed-on-single-model-server.adoc

nothing added to commit but untracked files present (use "git add" to track)
syaseen@syaseen-mac upstream % git status
On branch RHOAIENG-3379
Untracked files:
  (use "git add <file>..." to include in what will be committed)
	opendatahub-documentation-main/modules/accessing-inference-endpoints-for-models-deployed-on-single-model-server.adoc

nothing added to commit but untracked files present (use "git add" to track)
syaseen@syaseen-mac upstream % cd .. 
syaseen@syaseen-mac openshift-ai-documentation % ls
README.md					installing-rhods				release-notes					self-managed-installing-rhods			self-managed-upgrading-rhoai
_artifacts					integrating-data-from-amazon-s3			self-managed-developing-a-model			self-managed-integrating-data-from-amazon-s3	self-managed-working-on-data-science-projects
assemblies					introduction-to-rhoai				self-managed-disconnected-installing-rhoai	self-managed-introduction-to-rhoai		serving-models
developing-a-model				introduction-to-rhods				self-managed-disconnected-installing-rhods	self-managed-managing-resources			snippets
fraud-detection-tutorial			managing-resources				self-managed-disconnected-upgrading-rhoai	self-managed-managing-users			upgrading-rhoai
getting-started-with-rhoai			managing-users					self-managed-fraud-detection-tutorial		self-managed-monitoring-models			upstream
images						modules						self-managed-getting-started-with-rhoai		self-managed-release-notes			working-on-data-science-projects
installing-rhoai				monitoring-models				self-managed-installing-rhoai			self-managed-serving-models
syaseen@syaseen-mac openshift-ai-documentation % cd serving-models 
syaseen@syaseen-mac serving-models % ls
_artifacts		assemblies		build			images			master-docinfo.xml	master.adoc		modules			snippets		upstream-modules
syaseen@syaseen-mac serving-models % vi master.adoc 
syaseen@syaseen-mac serving-models % cd ..
syaseen@syaseen-mac openshift-ai-documentation % vi assemblies/serving-large-models.adoc 
syaseen@syaseen-mac openshift-ai-documentation % cd serving-models                      
syaseen@syaseen-mac serving-models % ccutil;ccutilopen
WARNING: The requested image's platform (linux/amd64) does not match the detected host platform (linux/arm64/v8) and no specific platform was requested
Transforming the AsciiDoc content to DocBook XML...
Setting up en-US
	Processing file tmp/en-US/xml/Common_Content/Conventions.xml -> tmp/en-US/xml/Common_Content/Conventions.xml
	Processing file tmp/en-US/xml/Common_Content/Feedback.xml -> tmp/en-US/xml/Common_Content/Feedback.xml
	Processing file tmp/en-US/xml/Common_Content/Legal_Notice.xml -> tmp/en-US/xml/Common_Content/Legal_Notice.xml
	Processing file tmp/en-US/xml/Common_Content/Program_Listing.xml -> tmp/en-US/xml/Common_Content/Program_Listing.xml
	Processing file tmp/en-US/xml/Common_Content/Revision_History.xml -> tmp/en-US/xml/Common_Content/Revision_History.xml
	Processing file tmp/en-US/xml_tmp/Author_Group.xml -> tmp/en-US/xml/Author_Group.xml
	Processing file tmp/en-US/xml_tmp/Revision_History.xml -> tmp/en-US/xml/Revision_History.xml
	Processing file tmp/en-US/xml_tmp/master.xml -> tmp/en-US/xml/master.xml
Beginning work on en-US
RelaxNG Validation OK
	Starting html-single
	Using XML::LibXSLT on /usr/share/publican/Common_Content/RedHat-Pantheon-db5/xsl/html-single.xsl
	Finished html-single
syaseen@syaseen-mac serving-models % grep -inr accessing-api-endpoints-for-models-deployed-on-single-model-server.adoc .
syaseen@syaseen-mac serving-models % cd ..
syaseen@syaseen-mac openshift-ai-documentation % cd self-managed-serving-models 
syaseen@syaseen-mac self-managed-serving-models % ls
_artifacts		assemblies		build			images			master-docinfo.xml	master.adoc		modules			snippets		upstream-modules
syaseen@syaseen-mac self-managed-serving-models % vi master.adoc 
syaseen@syaseen-mac self-managed-serving-models % git status
On branch RHOAIENG-3379
Changes not staged for commit:
  (use "git add <file>..." to update what will be committed)
  (use "git restore <file>..." to discard changes in working directory)
	modified:   ../assemblies/serving-large-models.adoc

Untracked files:
  (use "git add <file>..." to include in what will be committed)
	../upstream/opendatahub-documentation-main/modules/accessing-inference-endpoints-for-models-deployed-on-single-model-server.adoc

no changes added to commit (use "git add" and/or "git commit -a")
syaseen@syaseen-mac self-managed-serving-models % git add ../upstream/opendatahub-documentation-main/modules/accessing-inference-endpoints-for-models-deployed-on-single-model-server.adoc 
syaseen@syaseen-mac self-managed-serving-models % git status
On branch RHOAIENG-3379
Changes to be committed:
  (use "git restore --staged <file>..." to unstage)
	new file:   ../upstream/opendatahub-documentation-main/modules/accessing-inference-endpoints-for-models-deployed-on-single-model-server.adoc

Changes not staged for commit:
  (use "git add <file>..." to update what will be committed)
  (use "git restore <file>..." to discard changes in working directory)
	modified:   ../assemblies/serving-large-models.adoc

syaseen@syaseen-mac self-managed-serving-models % git add ../assemblies/serving-large-models.adoc 
syaseen@syaseen-mac self-managed-serving-models % git status
On branch RHOAIENG-3379
Changes to be committed:
  (use "git restore --staged <file>..." to unstage)
	modified:   ../assemblies/serving-large-models.adoc
	new file:   ../upstream/opendatahub-documentation-main/modules/accessing-inference-endpoints-for-models-deployed-on-single-model-server.adoc

syaseen@syaseen-mac self-managed-serving-models % git commit -m "fetching upstream changes"       
[RHOAIENG-3379 f2b2a4d9f] fetching upstream changes
 2 files changed, 103 insertions(+), 1 deletion(-)
 create mode 100644 upstream/opendatahub-documentation-main/modules/accessing-inference-endpoints-for-models-deployed-on-single-model-server.adoc
syaseen@syaseen-mac self-managed-serving-models % git branch
  RHOAIENG-1286
  RHOAIENG-1294
  RHOAIENG-1440
  RHOAIENG-1448
  RHOAIENG-1450
  RHOAIENG-1466
  RHOAIENG-1540
  RHOAIENG-1914
  RHOAIENG-1916
  RHOAIENG-1917
  RHOAIENG-2134
  RHOAIENG-2670
  RHOAIENG-2828
* RHOAIENG-3379
  RHOAIENG-649
  RHOAIENG-666
  RHOAIENG-973
  RHODS-12921
  RHODS-13009
  RHODS-13014
  RHODS-13068
  RHODS-13077
  RHODS-13082
  main
  openshift-ai-documentation-RHODS-12921
syaseen@syaseen-mac self-managed-serving-models % git fetch --all
Fetching origin
Enter passphrase for key '/Users/syaseen/.ssh/id_rsa': 
Fetching upstream
Enter passphrase for key '/Users/syaseen/.ssh/id_rsa': 
syaseen@syaseen-mac self-managed-serving-models % git rebase upstream/main
Current branch RHOAIENG-3379 is up to date.
syaseen@syaseen-mac self-managed-serving-models % git push origin HEAD
Enter passphrase for key '/Users/syaseen/.ssh/id_rsa': 
Enumerating objects: 14, done.
Counting objects: 100% (14/14), done.
Delta compression using up to 10 threads
Compressing objects: 100% (8/8), done.
Writing objects: 100% (8/8), 2.01 KiB | 2.01 MiB/s, done.
Total 8 (delta 5), reused 0 (delta 0), pack-reused 0
remote: 
remote: To create a merge request for RHOAIENG-3379, visit:
remote:   https://gitlab.cee.redhat.com/syaseen/openshift-ai-documentation/-/merge_requests/new?merge_request%5Bsource_branch%5D=RHOAIENG-3379
remote: 
To gitlab.cee.redhat.com:syaseen/openshift-ai-documentation.git
 * [new branch]          HEAD -> RHOAIENG-3379
syaseen@syaseen-mac self-managed-serving-models % cd ..
syaseen@syaseen-mac openshift-ai-documentation % vi modules/requirements-for-upgrading-openshift-ai.adoc 
syaseen@syaseen-mac openshift-ai-documentation % vi upstream/opendatahub-documentation-main/modules/requirements-for-upgrading-odh.adoc
syaseen@syaseen-mac openshift-ai-documentation % git checkout RHOAIENG-3379
Already on 'RHOAIENG-3379'
syaseen@syaseen-mac openshift-ai-documentation % git status
On branch RHOAIENG-3379
Changes not staged for commit:
  (use "git add <file>..." to update what will be committed)
  (use "git restore <file>..." to discard changes in working directory)
	modified:   upstream/opendatahub-documentation-main/modules/accessing-inference-endpoints-for-models-deployed-on-single-model-server.adoc

no changes added to commit (use "git add" and/or "git commit -a")
syaseen@syaseen-mac openshift-ai-documentation % cd modules 
syaseen@syaseen-mac modules % cd ..
syaseen@syaseen-mac openshift-ai-documentation % cd serving-models 
syaseen@syaseen-mac serving-models % ccutil;ccutilopen
WARNING: The requested image's platform (linux/amd64) does not match the detected host platform (linux/arm64/v8) and no specific platform was requested
Transforming the AsciiDoc content to DocBook XML...
Setting up en-US
	Processing file tmp/en-US/xml/Common_Content/Conventions.xml -> tmp/en-US/xml/Common_Content/Conventions.xml
	Processing file tmp/en-US/xml/Common_Content/Feedback.xml -> tmp/en-US/xml/Common_Content/Feedback.xml
	Processing file tmp/en-US/xml/Common_Content/Legal_Notice.xml -> tmp/en-US/xml/Common_Content/Legal_Notice.xml
	Processing file tmp/en-US/xml/Common_Content/Program_Listing.xml -> tmp/en-US/xml/Common_Content/Program_Listing.xml
	Processing file tmp/en-US/xml/Common_Content/Revision_History.xml -> tmp/en-US/xml/Common_Content/Revision_History.xml
	Processing file tmp/en-US/xml_tmp/Author_Group.xml -> tmp/en-US/xml/Author_Group.xml
	Processing file tmp/en-US/xml_tmp/Revision_History.xml -> tmp/en-US/xml/Revision_History.xml
	Processing file tmp/en-US/xml_tmp/master.xml -> tmp/en-US/xml/master.xml
Beginning work on en-US
RelaxNG Validation OK
	Starting html-single
	Using XML::LibXSLT on /usr/share/publican/Common_Content/RedHat-Pantheon-db5/xsl/html-single.xsl
	Finished html-single
syaseen@syaseen-mac serving-models % vi upstream/opendatahub-documentation-main/modules/requirements-for-upgrading-odh.adoc
syaseen@syaseen-mac serving-models % pwd
/Users/syaseen/openshift-ai-documentation/serving-models
syaseen@syaseen-mac serving-models % pwd
/Users/syaseen/openshift-ai-documentation/serving-models
syaseen@syaseen-mac serving-models % git checkout RHOAIENG-3379                                                            
syaseen@syaseen-mac serving-models % vi _artifacts/document-attributes-global.adoc                                         
syaseen@syaseen-mac serving-models % vi _artifacts/document-attributes-global.adoc
syaseen@syaseen-mac serving-models % git branch
  RHOAIENG-1286
  RHOAIENG-1294
  RHOAIENG-1440
  RHOAIENG-1448
  RHOAIENG-1450
  RHOAIENG-1460
  RHOAIENG-1466
  RHOAIENG-1540
  RHOAIENG-1914
  RHOAIENG-1916
  RHOAIENG-1917
  RHOAIENG-2134
  RHOAIENG-2670
  RHOAIENG-2828
  RHOAIENG-2936
  RHOAIENG-3379
* RHOAIENG-3761
  RHOAIENG-649
  RHOAIENG-666
  RHOAIENG-973
  RHODS-12921
  RHODS-13009
  RHODS-13014
  RHODS-13068
  RHODS-13077
  RHODS-13082
  main
  openshift-ai-documentation-RHODS-12921
syaseen@syaseen-mac serving-models % cd ..                                                                                 
syaseen@syaseen-mac openshift-ai-documentation % cd ..
syaseen@syaseen-mac ~ % cd s3client_examples 
syaseen@syaseen-mac s3client_examples % git status
On branch main
Your branch is up to date with 'origin/main'.

Changes not staged for commit:
  (use "git add <file>..." to update what will be committed)
  (use "git restore <file>..." to discard changes in working directory)
	modified:   s3client_examples.ipynb

no changes added to commit (use "git add" and/or "git commit -a")
syaseen@syaseen-mac s3client_examples % git diff s3client_examples.ipynb 
diff --git a/s3client_examples.ipynb b/s3client_examples.ipynb
index 24c1689..bb73342 100644
--- a/s3client_examples.ipynb
+++ b/s3client_examples.ipynb
@@ -1,5 +1,10 @@
 {
  "cells": [
+  {
+   "cell_type": "markdown",
+   "metadata": {},
+   "source": []
+  },
   {
    "cell_type": "code",
    "execution_count": null,
@@ -57,6 +62,7 @@
    },
    "outputs": [],
    "source": [
+    "#Verify S3 connectivity\n",
     "#List available buckets\n",
     "s3_client.list_buckets() "
    ]
@@ -67,7 +73,7 @@
    "metadata": {},
    "outputs": [],
    "source": [
-    "#Print names of available buckets\n",
+    "#Print only names of available buckets\n",
syaseen@syaseen-mac s3client_examples % git status
On branch main
Your branch is up to date with 'origin/main'.

Changes not staged for commit:
  (use "git add <file>..." to update what will be committed)
  (use "git restore <file>..." to discard changes in working directory)
	modified:   s3client_examples.ipynb

no changes added to commit (use "git add" and/or "git commit -a")
syaseen@syaseen-mac s3client_examples % vi s3client_examples.ipynb 

{
 "cells": [
  {
   "cell_type": "markdown",
   "metadata": {},
   "source": []
  },
  {
   "cell_type": "code",
   "execution_count": null,
   "id": "7bd9e936-d099-44e0-abec-ccc89f1ef3ac",
   "metadata": {
    "tags": []
   },
   "outputs": [],
   "source": [
    "#Install boto3\n",
    "!pip3 install --upgrade pip\n",
    "!pip3 install boto3\n",
    "\n",
    "#Import boto3 libraries\n",
    "import os \n",
    "import boto3 \n",
    "from botocore.client import Config\n",
    "from boto3 import session "
   ]
  },
  {
   "cell_type": "code",
"s3client_examples.ipynb" 268L, 6764B
